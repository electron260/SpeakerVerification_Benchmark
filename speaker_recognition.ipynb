{
 "cells": [
  {
   "cell_type": "code",
   "execution_count": 21,
   "metadata": {},
   "outputs": [],
   "source": [
    "from models.resnet.resnet_se_34v2 import ResNetSE34V2\n",
    "from torchaudio.transforms import MelSpectrogram\n",
    "from torchaudio.functional import amplitude_to_DB\n",
    "import torch\n",
    "import torchaudio\n",
    "import librosa\n",
    "import numpy as np\n",
    "import os\n",
    "import pandas as pd\n",
    "from tqdm import tqdm\n",
    "import yaml\n",
    "import random"
   ]
  },
  {
   "cell_type": "code",
   "execution_count": 22,
   "metadata": {},
   "outputs": [],
   "source": [
    "DATASET_PATH = \"IEMOCAP_full_release\"\n",
    "PATH = os.path.join(os.getcwd(), DATASET_PATH)"
   ]
  },
  {
   "cell_type": "code",
   "execution_count": 109,
   "metadata": {},
   "outputs": [],
   "source": [
    "data = []\n",
    "spk_M = 0\n",
    "spk_F = 0\n",
    "\n",
    "for i, subdir in enumerate(os.listdir(PATH)):\n",
    "\n",
    "\n",
    "    if (subdir[0] != '.'):\n",
    "        #for j in random.sample(range(0, 20), 2):\n",
    "        #for i, file in enumerate(os.listdir(os.path.join(PATH, subdir)+'/sentences/wav')):\n",
    "        file = os.listdir(os.path.join(PATH, subdir)+'/sentences/wav')\n",
    "        file_M = [path for path in file if path[5] == 'M']\n",
    "        file_F = [path for path in file if path[5] == 'F']\n",
    "\n",
    "        #Choose 2 random file in a directory \n",
    "        for j in random.sample(range(0, 10), 2):\n",
    "            \n",
    "      \n",
    "            file2 = os.listdir(os.path.join(PATH, subdir)+'/sentences/wav/'+file_M[j]) \n",
    "\n",
    "            file2_M = [path for path in file2 if path[-8] == 'M']\n",
    "            file2_F = [path for path in file2 if path[-8] == 'F']\n",
    "\n",
    "            for k in random.sample(range(0, 10), 5):\n",
    "\n",
    "\n",
    "                sample_M = os.path.join(PATH, subdir)+'/sentences/wav/'+file_M[j] +'/'+ file2_M[k]\n",
    "                data.append([sample_M, \"Spk_\"+str(2*int(subdir[-1])-1)])\n",
    "                sample_F = os.path.join(PATH, subdir)+'/sentences/wav/'+file_M[j] +'/'+ file2_F[k]\n",
    "                data.append([sample_F, \"Spk_\"+str(2*int(subdir[-1]))])\n",
    "\n",
    "\n",
    "            file2 = os.listdir(os.path.join(PATH, subdir)+'/sentences/wav/'+file_F[j])\n",
    "\n",
    "            file2_M = [path for path in file2 if path[-8] == 'M']\n",
    "            file2_F = [path for path in file2 if path[-8] == 'F']\n",
    "\n",
    "            for k in random.sample(range(0, 10), 5):\n",
    "\n",
    "\n",
    "                sample_M = os.path.join(PATH, subdir)+'/sentences/wav/'+file_F[j] +'/'+ file2_M[k]\n",
    "                data.append([sample_M, \"Spk_\"+str(2*int(subdir[-1])-1)])\n",
    "                sample_F = os.path.join(PATH, subdir)+'/sentences/wav/'+file_F[j] +'/'+ file2_F[k]\n",
    "                data.append([sample_F, \"Spk_\"+str(2*int(subdir[-1]))])"
   ]
  },
  {
   "cell_type": "code",
   "execution_count": 110,
   "metadata": {},
   "outputs": [
    {
     "name": "stdout",
     "output_type": "stream",
     "text": [
      "200\n"
     ]
    }
   ],
   "source": [
    "print(len(data))"
   ]
  },
  {
   "cell_type": "code",
   "execution_count": 111,
   "metadata": {},
   "outputs": [
    {
     "name": "stdout",
     "output_type": "stream",
     "text": [
      "{0: 20, 1: 20, 2: 20, 3: 20, 4: 20, 5: 20, 6: 20, 7: 20, 8: 20, 9: 20}\n"
     ]
    }
   ],
   "source": [
    "num_spk = {0:0, 1:0, 2:0, 3:0, 4:0, 5:0, 6:0, \n",
    "           7:0, 8:0, 9:0}\n",
    "\n",
    "for i in data : \n",
    "    num_spk[int(i[1][-1])] += 1\n",
    "\n",
    "print(num_spk)"
   ]
  },
  {
   "cell_type": "code",
   "execution_count": 78,
   "metadata": {},
   "outputs": [],
   "source": [
    "def load_audio(file):\n",
    "    EPS = 1e-8\n",
    "    s, _ = librosa.load(file, sr=16000)\n",
    "    amax = np.max(np.abs(s))\n",
    "    factor = 1.0 / (amax + EPS)\n",
    "    s = s * factor\n",
    "    return s"
   ]
  },
  {
   "cell_type": "code",
   "execution_count": 79,
   "metadata": {},
   "outputs": [
    {
     "name": "stdout",
     "output_type": "stream",
     "text": [
      "Embedding size is 256, encoder SAP.\n"
     ]
    }
   ],
   "source": [
    "with open('./models/resnet/config.yaml') as f:\n",
    "    config = yaml.safe_load(f)\n",
    "\n",
    "sd = torch.load('./models/weigths/resnetse34_epoch92_eer0.00931.pth')\n",
    "model = ResNetSE34V2(nOut=256, n_mels= 80)\n",
    "model.load_state_dict(sd)\n",
    "model.eval()\n",
    "torch.set_grad_enabled(False)\n",
    "\n",
    "transform = MelSpectrogram(\n",
    "    sample_rate= 16000,\n",
    "    n_fft= 512,\n",
    "    win_length= 400,\n",
    "    hop_length= 160,\n",
    "    window_fn=torch.hamming_window,\n",
    "    n_mels= 80,\n",
    "    f_min=20,\n",
    "    f_max=7600,\n",
    "    norm='slaney')\n",
    "\n",
    "\n",
    "def embed_inference(audio_path, transform= transform, model = model):\n",
    "    s = load_audio(audio_path)\n",
    "    #print(type(s))\n",
    "    x = torch.from_numpy(s[None, :])\n",
    "    x = transform(x)\n",
    "    x = amplitude_to_DB(\n",
    "        x, multiplier=10, amin= 1e-5, db_multiplier=0, top_db=75)\n",
    "\n",
    "    feature = model(x[:, None, :, :])\n",
    "    feature = torch.nn.functional.normalize(feature)\n",
    "    return(feature,s)"
   ]
  },
  {
   "cell_type": "markdown",
   "metadata": {},
   "source": [
    "# PROCESS THE TEST"
   ]
  },
  {
   "cell_type": "code",
   "execution_count": 26,
   "metadata": {},
   "outputs": [],
   "source": [
    "import torchaudio\n",
    "from speechbrain.pretrained import EncoderClassifier\n",
    "classifier = EncoderClassifier.from_hparams(source=\"speechbrain/spkrec-ecapa-voxceleb\")"
   ]
  },
  {
   "cell_type": "code",
   "execution_count": 27,
   "metadata": {},
   "outputs": [],
   "source": [
    "from speechbrain.pretrained import SpeakerRecognition\n",
    "verification = SpeakerRecognition.from_hparams(source=\"speechbrain/spkrec-ecapa-voxceleb\", savedir=\"pretrained_models/spkrec-ecapa-voxceleb\")\n"
   ]
  },
  {
   "cell_type": "code",
   "execution_count": 98,
   "metadata": {},
   "outputs": [
    {
     "name": "stdout",
     "output_type": "stream",
     "text": [
      "MODEL CONFIG :  modelscope/1.9.2; python/3.8.18; session_id/61c54b3edbd54e49a8d63cd67ff19afc; platform/macOS-13.3-x86_64-i386-64bit; processor/i386; env/custom; user/unknown; invoked_by/from_pretrained\n"
     ]
    },
    {
     "name": "stderr",
     "output_type": "stream",
     "text": [
      "2023-10-11 14:45:13,697 - modelscope - INFO - Model revision not specified, use revision: v1.0.2\n",
      "2023-10-11 14:45:14,472 - modelscope - INFO - initialize model from /Users/hugo/.cache/modelscope/hub/damo/speech_campplus_sv_en_voxceleb_16k\n"
     ]
    }
   ],
   "source": [
    "from modelscope.models import Model\n",
    "from modelscope.pipelines import pipeline\n",
    "\n",
    "model = Model.from_pretrained('damo/speech_campplus_sv_en_voxceleb_16k', device='cpu')\n"
   ]
  },
  {
   "cell_type": "code",
   "execution_count": 29,
   "metadata": {},
   "outputs": [],
   "source": [
    "sim = torch.nn.CosineSimilarity(dim=1, eps=1e-8)"
   ]
  },
  {
   "cell_type": "code",
   "execution_count": 102,
   "metadata": {},
   "outputs": [
    {
     "name": "stdout",
     "output_type": "stream",
     "text": [
      "[['/Users/hugo/Desktop/Projects/audio_analysis/SpeakerVerification_Benchmark/IEMOCAP_full_release/Session4/sentences/wav/Ses04M_impro02/Ses04M_impro02_M030.wav', 'Spk_7'], ['Ses04M_impro02_F011.wav', 'Spk_8'], ['/Users/hugo/Desktop/Projects/audio_analysis/SpeakerVerification_Benchmark/IEMOCAP_full_release/Session4/sentences/wav/Ses04M_impro02/Ses04M_impro02_M026.wav', 'Spk_7'], ['Ses04M_impro02_F017.wav', 'Spk_8'], ['/Users/hugo/Desktop/Projects/audio_analysis/SpeakerVerification_Benchmark/IEMOCAP_full_release/Session4/sentences/wav/Ses04M_impro02/Ses04M_impro02_M025.wav', 'Spk_7'], ['Ses04M_impro02_F006.wav', 'Spk_8'], ['/Users/hugo/Desktop/Projects/audio_analysis/SpeakerVerification_Benchmark/IEMOCAP_full_release/Session4/sentences/wav/Ses04M_impro02/Ses04M_impro02_M032.wav', 'Spk_7'], ['Ses04M_impro02_F003.wav', 'Spk_8'], ['/Users/hugo/Desktop/Projects/audio_analysis/SpeakerVerification_Benchmark/IEMOCAP_full_release/Session4/sentences/wav/Ses04M_impro02/Ses04M_impro02_M018.wav', 'Spk_7'], ['Ses04M_impro02_F010.wav', 'Spk_8'], ['/Users/hugo/Desktop/Projects/audio_analysis/SpeakerVerification_Benchmark/IEMOCAP_full_release/Session4/sentences/wav/Ses04M_impro02/Ses04M_impro02_M033.wav', 'Spk_7'], ['Ses04M_impro02_F007.wav', 'Spk_8'], ['/Users/hugo/Desktop/Projects/audio_analysis/SpeakerVerification_Benchmark/IEMOCAP_full_release/Session4/sentences/wav/Ses04M_impro02/Ses04M_impro02_M027.wav', 'Spk_7'], ['Ses04M_impro02_F013.wav', 'Spk_8'], ['/Users/hugo/Desktop/Projects/audio_analysis/SpeakerVerification_Benchmark/IEMOCAP_full_release/Session4/sentences/wav/Ses04M_impro02/Ses04M_impro02_M032.wav', 'Spk_7'], ['Ses04M_impro02_F003.wav', 'Spk_8'], ['/Users/hugo/Desktop/Projects/audio_analysis/SpeakerVerification_Benchmark/IEMOCAP_full_release/Session4/sentences/wav/Ses04M_impro02/Ses04M_impro02_M031.wav', 'Spk_7'], ['Ses04M_impro02_F012.wav', 'Spk_8'], ['/Users/hugo/Desktop/Projects/audio_analysis/SpeakerVerification_Benchmark/IEMOCAP_full_release/Session4/sentences/wav/Ses04M_impro02/Ses04M_impro02_M026.wav', 'Spk_7'], ['Ses04M_impro02_F017.wav', 'Spk_8'], ['/Users/hugo/Desktop/Projects/audio_analysis/SpeakerVerification_Benchmark/IEMOCAP_full_release/Session4/sentences/wav/Ses04M_impro03/Ses04M_impro03_M025.wav', 'Spk_7'], ['Ses04M_impro03_F006.wav', 'Spk_8'], ['/Users/hugo/Desktop/Projects/audio_analysis/SpeakerVerification_Benchmark/IEMOCAP_full_release/Session4/sentences/wav/Ses04M_impro03/Ses04M_impro03_M026.wav', 'Spk_7'], ['Ses04M_impro03_F007.wav', 'Spk_8'], ['/Users/hugo/Desktop/Projects/audio_analysis/SpeakerVerification_Benchmark/IEMOCAP_full_release/Session4/sentences/wav/Ses04M_impro03/Ses04M_impro03_M023.wav', 'Spk_7'], ['Ses04M_impro03_F017.wav', 'Spk_8'], ['/Users/hugo/Desktop/Projects/audio_analysis/SpeakerVerification_Benchmark/IEMOCAP_full_release/Session4/sentences/wav/Ses04M_impro03/Ses04M_impro03_M027.wav', 'Spk_7'], ['Ses04M_impro03_F013.wav', 'Spk_8'], ['/Users/hugo/Desktop/Projects/audio_analysis/SpeakerVerification_Benchmark/IEMOCAP_full_release/Session4/sentences/wav/Ses04M_impro03/Ses04M_impro03_M019.wav', 'Spk_7'], ['Ses04M_impro03_F010.wav', 'Spk_8'], ['/Users/hugo/Desktop/Projects/audio_analysis/SpeakerVerification_Benchmark/IEMOCAP_full_release/Session4/sentences/wav/Ses04M_impro03/Ses04M_impro03_M030.wav', 'Spk_7'], ['Ses04M_impro03_F011.wav', 'Spk_8'], ['/Users/hugo/Desktop/Projects/audio_analysis/SpeakerVerification_Benchmark/IEMOCAP_full_release/Session4/sentences/wav/Ses04M_impro03/Ses04M_impro03_M025.wav', 'Spk_7'], ['Ses04M_impro03_F006.wav', 'Spk_8'], ['/Users/hugo/Desktop/Projects/audio_analysis/SpeakerVerification_Benchmark/IEMOCAP_full_release/Session4/sentences/wav/Ses04M_impro03/Ses04M_impro03_M027.wav', 'Spk_7'], ['Ses04M_impro03_F013.wav', 'Spk_8'], ['/Users/hugo/Desktop/Projects/audio_analysis/SpeakerVerification_Benchmark/IEMOCAP_full_release/Session4/sentences/wav/Ses04M_impro03/Ses04M_impro03_M024.wav', 'Spk_7'], ['Ses04M_impro03_F005.wav', 'Spk_8'], ['/Users/hugo/Desktop/Projects/audio_analysis/SpeakerVerification_Benchmark/IEMOCAP_full_release/Session4/sentences/wav/Ses04M_impro03/Ses04M_impro03_M026.wav', 'Spk_7'], ['Ses04M_impro03_F007.wav', 'Spk_8'], ['/Users/hugo/Desktop/Projects/audio_analysis/SpeakerVerification_Benchmark/IEMOCAP_full_release/Session3/sentences/wav/Ses03M_impro02/Ses03M_impro02_M025.wav', 'Spk_5'], ['Ses03M_impro02_F000.wav', 'Spk_6'], ['/Users/hugo/Desktop/Projects/audio_analysis/SpeakerVerification_Benchmark/IEMOCAP_full_release/Session3/sentences/wav/Ses03M_impro02/Ses03M_impro02_M031.wav', 'Spk_5'], ['Ses03M_impro02_F028.wav', 'Spk_6'], ['/Users/hugo/Desktop/Projects/audio_analysis/SpeakerVerification_Benchmark/IEMOCAP_full_release/Session3/sentences/wav/Ses03M_impro02/Ses03M_impro02_M030.wav', 'Spk_5'], ['Ses03M_impro02_F011.wav', 'Spk_6'], ['/Users/hugo/Desktop/Projects/audio_analysis/SpeakerVerification_Benchmark/IEMOCAP_full_release/Session3/sentences/wav/Ses03M_impro02/Ses03M_impro02_M024.wav', 'Spk_5'], ['Ses03M_impro02_F005.wav', 'Spk_6'], ['/Users/hugo/Desktop/Projects/audio_analysis/SpeakerVerification_Benchmark/IEMOCAP_full_release/Session3/sentences/wav/Ses03M_impro02/Ses03M_impro02_M032.wav', 'Spk_5'], ['Ses03M_impro02_F013.wav', 'Spk_6'], ['/Users/hugo/Desktop/Projects/audio_analysis/SpeakerVerification_Benchmark/IEMOCAP_full_release/Session3/sentences/wav/Ses03M_impro02/Ses03M_impro02_M033.wav', 'Spk_5'], ['Ses03M_impro02_F012.wav', 'Spk_6'], ['/Users/hugo/Desktop/Projects/audio_analysis/SpeakerVerification_Benchmark/IEMOCAP_full_release/Session3/sentences/wav/Ses03M_impro02/Ses03M_impro02_M032.wav', 'Spk_5'], ['Ses03M_impro02_F013.wav', 'Spk_6'], ['/Users/hugo/Desktop/Projects/audio_analysis/SpeakerVerification_Benchmark/IEMOCAP_full_release/Session3/sentences/wav/Ses03M_impro02/Ses03M_impro02_M025.wav', 'Spk_5'], ['Ses03M_impro02_F000.wav', 'Spk_6'], ['/Users/hugo/Desktop/Projects/audio_analysis/SpeakerVerification_Benchmark/IEMOCAP_full_release/Session3/sentences/wav/Ses03M_impro02/Ses03M_impro02_M027.wav', 'Spk_5'], ['Ses03M_impro02_F006.wav', 'Spk_6'], ['/Users/hugo/Desktop/Projects/audio_analysis/SpeakerVerification_Benchmark/IEMOCAP_full_release/Session3/sentences/wav/Ses03M_impro02/Ses03M_impro02_M026.wav', 'Spk_5'], ['Ses03M_impro02_F007.wav', 'Spk_6'], ['/Users/hugo/Desktop/Projects/audio_analysis/SpeakerVerification_Benchmark/IEMOCAP_full_release/Session3/sentences/wav/Ses03M_impro08b/Ses03M_impro08b_M012.wav', 'Spk_5'], ['Ses03M_impro08b_F014.wav', 'Spk_6'], ['/Users/hugo/Desktop/Projects/audio_analysis/SpeakerVerification_Benchmark/IEMOCAP_full_release/Session3/sentences/wav/Ses03M_impro08b/Ses03M_impro08b_M006.wav', 'Spk_5'], ['Ses03M_impro08b_F010.wav', 'Spk_6'], ['/Users/hugo/Desktop/Projects/audio_analysis/SpeakerVerification_Benchmark/IEMOCAP_full_release/Session3/sentences/wav/Ses03M_impro08b/Ses03M_impro08b_M022.wav', 'Spk_5'], ['Ses03M_impro08b_F004.wav', 'Spk_6'], ['/Users/hugo/Desktop/Projects/audio_analysis/SpeakerVerification_Benchmark/IEMOCAP_full_release/Session3/sentences/wav/Ses03M_impro08b/Ses03M_impro08b_M020.wav', 'Spk_5'], ['Ses03M_impro08b_F011.wav', 'Spk_6'], ['/Users/hugo/Desktop/Projects/audio_analysis/SpeakerVerification_Benchmark/IEMOCAP_full_release/Session3/sentences/wav/Ses03M_impro08b/Ses03M_impro08b_M018.wav', 'Spk_5'], ['Ses03M_impro08b_F006.wav', 'Spk_6'], ['/Users/hugo/Desktop/Projects/audio_analysis/SpeakerVerification_Benchmark/IEMOCAP_full_release/Session3/sentences/wav/Ses03M_impro08b/Ses03M_impro08b_M022.wav', 'Spk_5'], ['Ses03M_impro08b_F004.wav', 'Spk_6'], ['/Users/hugo/Desktop/Projects/audio_analysis/SpeakerVerification_Benchmark/IEMOCAP_full_release/Session3/sentences/wav/Ses03M_impro08b/Ses03M_impro08b_M009.wav', 'Spk_5'], ['Ses03M_impro08b_F013.wav', 'Spk_6'], ['/Users/hugo/Desktop/Projects/audio_analysis/SpeakerVerification_Benchmark/IEMOCAP_full_release/Session3/sentences/wav/Ses03M_impro08b/Ses03M_impro08b_M021.wav', 'Spk_5'], ['Ses03M_impro08b_F007.wav', 'Spk_6'], ['/Users/hugo/Desktop/Projects/audio_analysis/SpeakerVerification_Benchmark/IEMOCAP_full_release/Session3/sentences/wav/Ses03M_impro08b/Ses03M_impro08b_M019.wav', 'Spk_5'], ['Ses03M_impro08b_F012.wav', 'Spk_6'], ['/Users/hugo/Desktop/Projects/audio_analysis/SpeakerVerification_Benchmark/IEMOCAP_full_release/Session3/sentences/wav/Ses03M_impro08b/Ses03M_impro08b_M018.wav', 'Spk_5'], ['Ses03M_impro08b_F006.wav', 'Spk_6'], ['/Users/hugo/Desktop/Projects/audio_analysis/SpeakerVerification_Benchmark/IEMOCAP_full_release/Session2/sentences/wav/Ses02M_impro03/Ses02M_impro03_M018.wav', 'Spk_3'], ['Ses02M_impro03_F016.wav', 'Spk_4'], ['/Users/hugo/Desktop/Projects/audio_analysis/SpeakerVerification_Benchmark/IEMOCAP_full_release/Session2/sentences/wav/Ses02M_impro03/Ses02M_impro03_M027.wav', 'Spk_3'], ['Ses02M_impro03_F003.wav', 'Spk_4'], ['/Users/hugo/Desktop/Projects/audio_analysis/SpeakerVerification_Benchmark/IEMOCAP_full_release/Session2/sentences/wav/Ses02M_impro03/Ses02M_impro03_M026.wav', 'Spk_3'], ['Ses02M_impro03_F002.wav', 'Spk_4'], ['/Users/hugo/Desktop/Projects/audio_analysis/SpeakerVerification_Benchmark/IEMOCAP_full_release/Session2/sentences/wav/Ses02M_impro03/Ses02M_impro03_M008.wav', 'Spk_3'], ['Ses02M_impro03_F028.wav', 'Spk_4'], ['/Users/hugo/Desktop/Projects/audio_analysis/SpeakerVerification_Benchmark/IEMOCAP_full_release/Session2/sentences/wav/Ses02M_impro03/Ses02M_impro03_M020.wav', 'Spk_3'], ['Ses02M_impro03_F015.wav', 'Spk_4'], ['/Users/hugo/Desktop/Projects/audio_analysis/SpeakerVerification_Benchmark/IEMOCAP_full_release/Session2/sentences/wav/Ses02M_impro03/Ses02M_impro03_M008.wav', 'Spk_3'], ['Ses02M_impro03_F028.wav', 'Spk_4'], ['/Users/hugo/Desktop/Projects/audio_analysis/SpeakerVerification_Benchmark/IEMOCAP_full_release/Session2/sentences/wav/Ses02M_impro03/Ses02M_impro03_M021.wav', 'Spk_3'], ['Ses02M_impro03_F000.wav', 'Spk_4'], ['/Users/hugo/Desktop/Projects/audio_analysis/SpeakerVerification_Benchmark/IEMOCAP_full_release/Session2/sentences/wav/Ses02M_impro03/Ses02M_impro03_M009.wav', 'Spk_3'], ['Ses02M_impro03_F014.wav', 'Spk_4'], ['/Users/hugo/Desktop/Projects/audio_analysis/SpeakerVerification_Benchmark/IEMOCAP_full_release/Session2/sentences/wav/Ses02M_impro03/Ses02M_impro03_M022.wav', 'Spk_3'], ['Ses02M_impro03_F001.wav', 'Spk_4'], ['/Users/hugo/Desktop/Projects/audio_analysis/SpeakerVerification_Benchmark/IEMOCAP_full_release/Session2/sentences/wav/Ses02M_impro03/Ses02M_impro03_M023.wav', 'Spk_3'], ['Ses02M_impro03_F017.wav', 'Spk_4'], ['/Users/hugo/Desktop/Projects/audio_analysis/SpeakerVerification_Benchmark/IEMOCAP_full_release/Session2/sentences/wav/Ses02M_script01_1/Ses02M_script01_1_M010.wav', 'Spk_3'], ['Ses02M_script01_1_F031.wav', 'Spk_4'], ['/Users/hugo/Desktop/Projects/audio_analysis/SpeakerVerification_Benchmark/IEMOCAP_full_release/Session2/sentences/wav/Ses02M_script01_1/Ses02M_script01_1_M006.wav', 'Spk_3'], ['Ses02M_script01_1_F027.wav', 'Spk_4'], ['/Users/hugo/Desktop/Projects/audio_analysis/SpeakerVerification_Benchmark/IEMOCAP_full_release/Session2/sentences/wav/Ses02M_script01_1/Ses02M_script01_1_M007.wav', 'Spk_3'], ['Ses02M_script01_1_F026.wav', 'Spk_4'], ['/Users/hugo/Desktop/Projects/audio_analysis/SpeakerVerification_Benchmark/IEMOCAP_full_release/Session2/sentences/wav/Ses02M_script01_1/Ses02M_script01_1_M039.wav', 'Spk_3'], ['Ses02M_script01_1_F018.wav', 'Spk_4'], ['/Users/hugo/Desktop/Projects/audio_analysis/SpeakerVerification_Benchmark/IEMOCAP_full_release/Session2/sentences/wav/Ses02M_script01_1/Ses02M_script01_1_M038.wav', 'Spk_3'], ['Ses02M_script01_1_F019.wav', 'Spk_4'], ['/Users/hugo/Desktop/Projects/audio_analysis/SpeakerVerification_Benchmark/IEMOCAP_full_release/Session2/sentences/wav/Ses02M_script01_1/Ses02M_script01_1_M039.wav', 'Spk_3'], ['Ses02M_script01_1_F018.wav', 'Spk_4'], ['/Users/hugo/Desktop/Projects/audio_analysis/SpeakerVerification_Benchmark/IEMOCAP_full_release/Session2/sentences/wav/Ses02M_script01_1/Ses02M_script01_1_M010.wav', 'Spk_3'], ['Ses02M_script01_1_F031.wav', 'Spk_4'], ['/Users/hugo/Desktop/Projects/audio_analysis/SpeakerVerification_Benchmark/IEMOCAP_full_release/Session2/sentences/wav/Ses02M_script01_1/Ses02M_script01_1_M013.wav', 'Spk_3'], ['Ses02M_script01_1_F032.wav', 'Spk_4'], ['/Users/hugo/Desktop/Projects/audio_analysis/SpeakerVerification_Benchmark/IEMOCAP_full_release/Session2/sentences/wav/Ses02M_script01_1/Ses02M_script01_1_M012.wav', 'Spk_3'], ['Ses02M_script01_1_F033.wav', 'Spk_4'], ['/Users/hugo/Desktop/Projects/audio_analysis/SpeakerVerification_Benchmark/IEMOCAP_full_release/Session2/sentences/wav/Ses02M_script01_1/Ses02M_script01_1_M011.wav', 'Spk_3'], ['Ses02M_script01_1_F030.wav', 'Spk_4'], ['/Users/hugo/Desktop/Projects/audio_analysis/SpeakerVerification_Benchmark/IEMOCAP_full_release/Session5/sentences/wav/Ses05M_impro04/Ses05M_impro04_M026.wav', 'Spk_9'], ['Ses05M_impro04_F013.wav', 'Spk_10'], ['/Users/hugo/Desktop/Projects/audio_analysis/SpeakerVerification_Benchmark/IEMOCAP_full_release/Session5/sentences/wav/Ses05M_impro04/Ses05M_impro04_M025.wav', 'Spk_9'], ['Ses05M_impro04_F038.wav', 'Spk_10'], ['/Users/hugo/Desktop/Projects/audio_analysis/SpeakerVerification_Benchmark/IEMOCAP_full_release/Session5/sentences/wav/Ses05M_impro04/Ses05M_impro04_M031.wav', 'Spk_9'], ['Ses05M_impro04_F004.wav', 'Spk_10'], ['/Users/hugo/Desktop/Projects/audio_analysis/SpeakerVerification_Benchmark/IEMOCAP_full_release/Session5/sentences/wav/Ses05M_impro04/Ses05M_impro04_M027.wav', 'Spk_9'], ['Ses05M_impro04_F007.wav', 'Spk_10'], ['/Users/hugo/Desktop/Projects/audio_analysis/SpeakerVerification_Benchmark/IEMOCAP_full_release/Session5/sentences/wav/Ses05M_impro04/Ses05M_impro04_M019.wav', 'Spk_9'], ['Ses05M_impro04_F012.wav', 'Spk_10'], ['/Users/hugo/Desktop/Projects/audio_analysis/SpeakerVerification_Benchmark/IEMOCAP_full_release/Session5/sentences/wav/Ses05M_impro04/Ses05M_impro04_M026.wav', 'Spk_9'], ['Ses05M_impro04_F013.wav', 'Spk_10'], ['/Users/hugo/Desktop/Projects/audio_analysis/SpeakerVerification_Benchmark/IEMOCAP_full_release/Session5/sentences/wav/Ses05M_impro04/Ses05M_impro04_M024.wav', 'Spk_9'], ['Ses05M_impro04_F011.wav', 'Spk_10'], ['/Users/hugo/Desktop/Projects/audio_analysis/SpeakerVerification_Benchmark/IEMOCAP_full_release/Session5/sentences/wav/Ses05M_impro04/Ses05M_impro04_M033.wav', 'Spk_9'], ['Ses05M_impro04_F006.wav', 'Spk_10'], ['/Users/hugo/Desktop/Projects/audio_analysis/SpeakerVerification_Benchmark/IEMOCAP_full_release/Session5/sentences/wav/Ses05M_impro04/Ses05M_impro04_M019.wav', 'Spk_9'], ['Ses05M_impro04_F012.wav', 'Spk_10'], ['/Users/hugo/Desktop/Projects/audio_analysis/SpeakerVerification_Benchmark/IEMOCAP_full_release/Session5/sentences/wav/Ses05M_impro04/Ses05M_impro04_M031.wav', 'Spk_9'], ['Ses05M_impro04_F004.wav', 'Spk_10'], ['/Users/hugo/Desktop/Projects/audio_analysis/SpeakerVerification_Benchmark/IEMOCAP_full_release/Session5/sentences/wav/Ses05M_script02_2/Ses05M_script02_2_M021.wav', 'Spk_9'], ['Ses05M_script02_2_F000.wav', 'Spk_10'], ['/Users/hugo/Desktop/Projects/audio_analysis/SpeakerVerification_Benchmark/IEMOCAP_full_release/Session5/sentences/wav/Ses05M_script02_2/Ses05M_script02_2_M035.wav', 'Spk_9'], ['Ses05M_script02_2_F014.wav', 'Spk_10'], ['/Users/hugo/Desktop/Projects/audio_analysis/SpeakerVerification_Benchmark/IEMOCAP_full_release/Session5/sentences/wav/Ses05M_script02_2/Ses05M_script02_2_M009.wav', 'Spk_9'], ['Ses05M_script02_2_F028.wav', 'Spk_10'], ['/Users/hugo/Desktop/Projects/audio_analysis/SpeakerVerification_Benchmark/IEMOCAP_full_release/Session5/sentences/wav/Ses05M_script02_2/Ses05M_script02_2_M008.wav', 'Spk_9'], ['Ses05M_script02_2_F029.wav', 'Spk_10'], ['/Users/hugo/Desktop/Projects/audio_analysis/SpeakerVerification_Benchmark/IEMOCAP_full_release/Session5/sentences/wav/Ses05M_script02_2/Ses05M_script02_2_M037.wav', 'Spk_9'], ['Ses05M_script02_2_F016.wav', 'Spk_10'], ['/Users/hugo/Desktop/Projects/audio_analysis/SpeakerVerification_Benchmark/IEMOCAP_full_release/Session5/sentences/wav/Ses05M_script02_2/Ses05M_script02_2_M023.wav', 'Spk_9'], ['Ses05M_script02_2_F002.wav', 'Spk_10'], ['/Users/hugo/Desktop/Projects/audio_analysis/SpeakerVerification_Benchmark/IEMOCAP_full_release/Session5/sentences/wav/Ses05M_script02_2/Ses05M_script02_2_M020.wav', 'Spk_9'], ['Ses05M_script02_2_F001.wav', 'Spk_10'], ['/Users/hugo/Desktop/Projects/audio_analysis/SpeakerVerification_Benchmark/IEMOCAP_full_release/Session5/sentences/wav/Ses05M_script02_2/Ses05M_script02_2_M008.wav', 'Spk_9'], ['Ses05M_script02_2_F029.wav', 'Spk_10'], ['/Users/hugo/Desktop/Projects/audio_analysis/SpeakerVerification_Benchmark/IEMOCAP_full_release/Session5/sentences/wav/Ses05M_script02_2/Ses05M_script02_2_M022.wav', 'Spk_9'], ['Ses05M_script02_2_F003.wav', 'Spk_10'], ['/Users/hugo/Desktop/Projects/audio_analysis/SpeakerVerification_Benchmark/IEMOCAP_full_release/Session5/sentences/wav/Ses05M_script02_2/Ses05M_script02_2_M034.wav', 'Spk_9'], ['Ses05M_script02_2_F015.wav', 'Spk_10'], ['/Users/hugo/Desktop/Projects/audio_analysis/SpeakerVerification_Benchmark/IEMOCAP_full_release/Session1/sentences/wav/Ses01M_script01_2/Ses01M_script01_2_M012.wav', 'Spk_1'], ['Ses01M_script01_2_F007.wav', 'Spk_2'], ['/Users/hugo/Desktop/Projects/audio_analysis/SpeakerVerification_Benchmark/IEMOCAP_full_release/Session1/sentences/wav/Ses01M_script01_2/Ses01M_script01_2_M015.wav', 'Spk_1'], ['Ses01M_script01_2_F005.wav', 'Spk_2'], ['/Users/hugo/Desktop/Projects/audio_analysis/SpeakerVerification_Benchmark/IEMOCAP_full_release/Session1/sentences/wav/Ses01M_script01_2/Ses01M_script01_2_M010.wav', 'Spk_1'], ['Ses01M_script01_2_F012.wav', 'Spk_2'], ['/Users/hugo/Desktop/Projects/audio_analysis/SpeakerVerification_Benchmark/IEMOCAP_full_release/Session1/sentences/wav/Ses01M_script01_2/Ses01M_script01_2_M013.wav', 'Spk_1'], ['Ses01M_script01_2_F008.wav', 'Spk_2'], ['/Users/hugo/Desktop/Projects/audio_analysis/SpeakerVerification_Benchmark/IEMOCAP_full_release/Session1/sentences/wav/Ses01M_script01_2/Ses01M_script01_2_M004.wav', 'Spk_1'], ['Ses01M_script01_2_F006.wav', 'Spk_2'], ['/Users/hugo/Desktop/Projects/audio_analysis/SpeakerVerification_Benchmark/IEMOCAP_full_release/Session1/sentences/wav/Ses01M_script01_2/Ses01M_script01_2_M011.wav', 'Spk_1'], ['Ses01M_script01_2_F004.wav', 'Spk_2'], ['/Users/hugo/Desktop/Projects/audio_analysis/SpeakerVerification_Benchmark/IEMOCAP_full_release/Session1/sentences/wav/Ses01M_script01_2/Ses01M_script01_2_M012.wav', 'Spk_1'], ['Ses01M_script01_2_F007.wav', 'Spk_2'], ['/Users/hugo/Desktop/Projects/audio_analysis/SpeakerVerification_Benchmark/IEMOCAP_full_release/Session1/sentences/wav/Ses01M_script01_2/Ses01M_script01_2_M004.wav', 'Spk_1'], ['Ses01M_script01_2_F006.wav', 'Spk_2'], ['/Users/hugo/Desktop/Projects/audio_analysis/SpeakerVerification_Benchmark/IEMOCAP_full_release/Session1/sentences/wav/Ses01M_script01_2/Ses01M_script01_2_M005.wav', 'Spk_1'], ['Ses01M_script01_2_F010.wav', 'Spk_2'], ['/Users/hugo/Desktop/Projects/audio_analysis/SpeakerVerification_Benchmark/IEMOCAP_full_release/Session1/sentences/wav/Ses01M_script01_2/Ses01M_script01_2_M015.wav', 'Spk_1'], ['Ses01M_script01_2_F005.wav', 'Spk_2'], ['/Users/hugo/Desktop/Projects/audio_analysis/SpeakerVerification_Benchmark/IEMOCAP_full_release/Session1/sentences/wav/Ses01M_impro05/Ses01M_impro05_M030.wav', 'Spk_1'], ['Ses01M_impro05_F002.wav', 'Spk_2'], ['/Users/hugo/Desktop/Projects/audio_analysis/SpeakerVerification_Benchmark/IEMOCAP_full_release/Session1/sentences/wav/Ses01M_impro05/Ses01M_impro05_M026.wav', 'Spk_1'], ['Ses01M_impro05_F017.wav', 'Spk_2'], ['/Users/hugo/Desktop/Projects/audio_analysis/SpeakerVerification_Benchmark/IEMOCAP_full_release/Session1/sentences/wav/Ses01M_impro05/Ses01M_impro05_M027.wav', 'Spk_1'], ['Ses01M_impro05_F003.wav', 'Spk_2'], ['/Users/hugo/Desktop/Projects/audio_analysis/SpeakerVerification_Benchmark/IEMOCAP_full_release/Session1/sentences/wav/Ses01M_impro05/Ses01M_impro05_M021.wav', 'Spk_1'], ['Ses01M_impro05_F014.wav', 'Spk_2'], ['/Users/hugo/Desktop/Projects/audio_analysis/SpeakerVerification_Benchmark/IEMOCAP_full_release/Session1/sentences/wav/Ses01M_impro05/Ses01M_impro05_M018.wav', 'Spk_1'], ['Ses01M_impro05_F016.wav', 'Spk_2'], ['/Users/hugo/Desktop/Projects/audio_analysis/SpeakerVerification_Benchmark/IEMOCAP_full_release/Session1/sentences/wav/Ses01M_impro05/Ses01M_impro05_M026.wav', 'Spk_1'], ['Ses01M_impro05_F017.wav', 'Spk_2'], ['/Users/hugo/Desktop/Projects/audio_analysis/SpeakerVerification_Benchmark/IEMOCAP_full_release/Session1/sentences/wav/Ses01M_impro05/Ses01M_impro05_M021.wav', 'Spk_1'], ['Ses01M_impro05_F014.wav', 'Spk_2'], ['/Users/hugo/Desktop/Projects/audio_analysis/SpeakerVerification_Benchmark/IEMOCAP_full_release/Session1/sentences/wav/Ses01M_impro05/Ses01M_impro05_M020.wav', 'Spk_1'], ['Ses01M_impro05_F029.wav', 'Spk_2'], ['/Users/hugo/Desktop/Projects/audio_analysis/SpeakerVerification_Benchmark/IEMOCAP_full_release/Session1/sentences/wav/Ses01M_impro05/Ses01M_impro05_M027.wav', 'Spk_1'], ['Ses01M_impro05_F003.wav', 'Spk_2'], ['/Users/hugo/Desktop/Projects/audio_analysis/SpeakerVerification_Benchmark/IEMOCAP_full_release/Session1/sentences/wav/Ses01M_impro05/Ses01M_impro05_M008.wav', 'Spk_1'], ['Ses01M_impro05_F028.wav', 'Spk_2']]\n"
     ]
    }
   ],
   "source": [
    "print(data)"
   ]
  },
  {
   "cell_type": "code",
   "execution_count": 115,
   "metadata": {},
   "outputs": [
    {
     "name": "stderr",
     "output_type": "stream",
     "text": [
      "  0%|          | 0/40000 [00:00<?, ?it/s]"
     ]
    },
    {
     "name": "stdout",
     "output_type": "stream",
     "text": [
      "test\n"
     ]
    },
    {
     "name": "stderr",
     "output_type": "stream",
     "text": [
      "  0%|          | 1/40000 [00:02<28:15:16,  2.54s/it]"
     ]
    },
    {
     "name": "stdout",
     "output_type": "stream",
     "text": [
      "test\n"
     ]
    },
    {
     "name": "stderr",
     "output_type": "stream",
     "text": [
      "  0%|          | 2/40000 [00:03<19:27:56,  1.75s/it]"
     ]
    },
    {
     "name": "stdout",
     "output_type": "stream",
     "text": [
      "test\n"
     ]
    },
    {
     "name": "stderr",
     "output_type": "stream",
     "text": [
      "  0%|          | 3/40000 [00:04<16:33:29,  1.49s/it]"
     ]
    },
    {
     "name": "stdout",
     "output_type": "stream",
     "text": [
      "test\n"
     ]
    },
    {
     "name": "stderr",
     "output_type": "stream",
     "text": [
      "  0%|          | 4/40000 [00:06<15:08:42,  1.36s/it]"
     ]
    },
    {
     "name": "stdout",
     "output_type": "stream",
     "text": [
      "test\n"
     ]
    },
    {
     "name": "stderr",
     "output_type": "stream",
     "text": [
      "  0%|          | 5/40000 [00:09<23:22:21,  2.10s/it]"
     ]
    },
    {
     "name": "stdout",
     "output_type": "stream",
     "text": [
      "test\n"
     ]
    },
    {
     "name": "stderr",
     "output_type": "stream",
     "text": [
      "  0%|          | 6/40000 [00:10<19:29:16,  1.75s/it]"
     ]
    },
    {
     "name": "stdout",
     "output_type": "stream",
     "text": [
      "test\n"
     ]
    },
    {
     "name": "stderr",
     "output_type": "stream",
     "text": [
      "  0%|          | 7/40000 [00:13<22:13:08,  2.00s/it]"
     ]
    },
    {
     "name": "stdout",
     "output_type": "stream",
     "text": [
      "test\n"
     ]
    },
    {
     "name": "stderr",
     "output_type": "stream",
     "text": [
      "  0%|          | 8/40000 [00:14<19:59:34,  1.80s/it]"
     ]
    },
    {
     "name": "stdout",
     "output_type": "stream",
     "text": [
      "test\n"
     ]
    },
    {
     "name": "stderr",
     "output_type": "stream",
     "text": [
      "  0%|          | 9/40000 [00:15<17:42:13,  1.59s/it]"
     ]
    },
    {
     "name": "stdout",
     "output_type": "stream",
     "text": [
      "test\n"
     ]
    },
    {
     "name": "stderr",
     "output_type": "stream",
     "text": [
      "  0%|          | 10/40000 [00:16<16:53:04,  1.52s/it]"
     ]
    },
    {
     "name": "stdout",
     "output_type": "stream",
     "text": [
      "test\n"
     ]
    },
    {
     "name": "stderr",
     "output_type": "stream",
     "text": [
      "  0%|          | 11/40000 [00:18<18:32:29,  1.67s/it]"
     ]
    },
    {
     "name": "stdout",
     "output_type": "stream",
     "text": [
      "test\n"
     ]
    },
    {
     "name": "stderr",
     "output_type": "stream",
     "text": [
      "  0%|          | 12/40000 [00:20<17:30:10,  1.58s/it]"
     ]
    },
    {
     "name": "stdout",
     "output_type": "stream",
     "text": [
      "test\n"
     ]
    },
    {
     "name": "stderr",
     "output_type": "stream",
     "text": [
      "  0%|          | 13/40000 [00:22<18:48:25,  1.69s/it]"
     ]
    },
    {
     "name": "stdout",
     "output_type": "stream",
     "text": [
      "test\n"
     ]
    },
    {
     "name": "stderr",
     "output_type": "stream",
     "text": [
      "  0%|          | 14/40000 [00:24<19:56:20,  1.80s/it]"
     ]
    },
    {
     "name": "stdout",
     "output_type": "stream",
     "text": [
      "test\n"
     ]
    },
    {
     "name": "stderr",
     "output_type": "stream",
     "text": [
      "  0%|          | 15/40000 [00:26<20:44:04,  1.87s/it]"
     ]
    },
    {
     "name": "stdout",
     "output_type": "stream",
     "text": [
      "test\n"
     ]
    },
    {
     "name": "stderr",
     "output_type": "stream",
     "text": [
      "  0%|          | 16/40000 [00:28<20:37:53,  1.86s/it]"
     ]
    },
    {
     "name": "stdout",
     "output_type": "stream",
     "text": [
      "test\n"
     ]
    },
    {
     "name": "stderr",
     "output_type": "stream",
     "text": [
      "  0%|          | 17/40000 [00:29<19:51:12,  1.79s/it]"
     ]
    },
    {
     "name": "stdout",
     "output_type": "stream",
     "text": [
      "test\n"
     ]
    },
    {
     "name": "stderr",
     "output_type": "stream",
     "text": [
      "  0%|          | 17/40000 [00:30<19:47:19,  1.78s/it]\n"
     ]
    },
    {
     "ename": "KeyboardInterrupt",
     "evalue": "",
     "output_type": "error",
     "traceback": [
      "\u001b[0;31m---------------------------------------------------------------------------\u001b[0m",
      "\u001b[0;31mKeyboardInterrupt\u001b[0m                         Traceback (most recent call last)",
      "\u001b[1;32m/Users/hugo/Desktop/Projects/audio_analysis/SpeakerVerification_Benchmark/speaker_recognition.ipynb Cell 14\u001b[0m line \u001b[0;36m2\n\u001b[1;32m     <a href='vscode-notebook-cell:/Users/hugo/Desktop/Projects/audio_analysis/SpeakerVerification_Benchmark/speaker_recognition.ipynb#X24sZmlsZQ%3D%3D?line=17'>18</a>\u001b[0m loss_val \u001b[39m=\u001b[39m sim(ref_embed, embed)\n\u001b[1;32m     <a href='vscode-notebook-cell:/Users/hugo/Desktop/Projects/audio_analysis/SpeakerVerification_Benchmark/speaker_recognition.ipynb#X24sZmlsZQ%3D%3D?line=19'>20</a>\u001b[0m \u001b[39m#print(audio_1.shape, audio_1)\u001b[39;00m\n\u001b[0;32m---> <a href='vscode-notebook-cell:/Users/hugo/Desktop/Projects/audio_analysis/SpeakerVerification_Benchmark/speaker_recognition.ipynb#X24sZmlsZQ%3D%3D?line=20'>21</a>\u001b[0m embeddings \u001b[39m=\u001b[39m model(audio_1)\n\u001b[1;32m     <a href='vscode-notebook-cell:/Users/hugo/Desktop/Projects/audio_analysis/SpeakerVerification_Benchmark/speaker_recognition.ipynb#X24sZmlsZQ%3D%3D?line=21'>22</a>\u001b[0m embeddings2 \u001b[39m=\u001b[39m model(audio_2)\n\u001b[1;32m     <a href='vscode-notebook-cell:/Users/hugo/Desktop/Projects/audio_analysis/SpeakerVerification_Benchmark/speaker_recognition.ipynb#X24sZmlsZQ%3D%3D?line=22'>23</a>\u001b[0m cam_score_model \u001b[39m=\u001b[39m sim(embeddings, embeddings2)\n",
      "File \u001b[0;32m~/Desktop/Projects/audio_analysis/SpeakerVerification_Benchmark/.test/lib/python3.8/site-packages/modelscope/models/base/base_torch_model.py:36\u001b[0m, in \u001b[0;36mTorchModel.__call__\u001b[0;34m(self, *args, **kwargs)\u001b[0m\n\u001b[1;32m     34\u001b[0m     \u001b[39mreturn\u001b[39;00m \u001b[39mself\u001b[39m\u001b[39m.\u001b[39mpostprocess(\u001b[39mself\u001b[39m\u001b[39m.\u001b[39mforward(args[\u001b[39m0\u001b[39m], \u001b[39m*\u001b[39m\u001b[39m*\u001b[39mkwargs))\n\u001b[1;32m     35\u001b[0m \u001b[39melse\u001b[39;00m:\n\u001b[0;32m---> 36\u001b[0m     \u001b[39mreturn\u001b[39;00m \u001b[39mself\u001b[39m\u001b[39m.\u001b[39mpostprocess(\u001b[39mself\u001b[39;49m\u001b[39m.\u001b[39;49mforward(\u001b[39m*\u001b[39;49margs, \u001b[39m*\u001b[39;49m\u001b[39m*\u001b[39;49mkwargs))\n",
      "File \u001b[0;32m~/Desktop/Projects/audio_analysis/SpeakerVerification_Benchmark/.test/lib/python3.8/site-packages/modelscope/models/audio/sv/DTDNN.py:186\u001b[0m, in \u001b[0;36mSpeakerVerificationCAMPPlus.forward\u001b[0;34m(self, audio)\u001b[0m\n\u001b[1;32m    184\u001b[0m \u001b[39m# audio shape: [N, T]\u001b[39;00m\n\u001b[1;32m    185\u001b[0m feature \u001b[39m=\u001b[39m \u001b[39mself\u001b[39m\u001b[39m.\u001b[39m__extract_feature(audio)\n\u001b[0;32m--> 186\u001b[0m embedding \u001b[39m=\u001b[39m \u001b[39mself\u001b[39;49m\u001b[39m.\u001b[39;49membedding_model(feature\u001b[39m.\u001b[39;49mto(\u001b[39mself\u001b[39;49m\u001b[39m.\u001b[39;49mdevice))\n\u001b[1;32m    187\u001b[0m \u001b[39mreturn\u001b[39;00m embedding\u001b[39m.\u001b[39mdetach()\u001b[39m.\u001b[39mcpu()\n",
      "File \u001b[0;32m~/Desktop/Projects/audio_analysis/SpeakerVerification_Benchmark/.test/lib/python3.8/site-packages/torch/nn/modules/module.py:1518\u001b[0m, in \u001b[0;36mModule._wrapped_call_impl\u001b[0;34m(self, *args, **kwargs)\u001b[0m\n\u001b[1;32m   1516\u001b[0m     \u001b[39mreturn\u001b[39;00m \u001b[39mself\u001b[39m\u001b[39m.\u001b[39m_compiled_call_impl(\u001b[39m*\u001b[39margs, \u001b[39m*\u001b[39m\u001b[39m*\u001b[39mkwargs)  \u001b[39m# type: ignore[misc]\u001b[39;00m\n\u001b[1;32m   1517\u001b[0m \u001b[39melse\u001b[39;00m:\n\u001b[0;32m-> 1518\u001b[0m     \u001b[39mreturn\u001b[39;00m \u001b[39mself\u001b[39;49m\u001b[39m.\u001b[39;49m_call_impl(\u001b[39m*\u001b[39;49margs, \u001b[39m*\u001b[39;49m\u001b[39m*\u001b[39;49mkwargs)\n",
      "File \u001b[0;32m~/Desktop/Projects/audio_analysis/SpeakerVerification_Benchmark/.test/lib/python3.8/site-packages/torch/nn/modules/module.py:1527\u001b[0m, in \u001b[0;36mModule._call_impl\u001b[0;34m(self, *args, **kwargs)\u001b[0m\n\u001b[1;32m   1522\u001b[0m \u001b[39m# If we don't have any hooks, we want to skip the rest of the logic in\u001b[39;00m\n\u001b[1;32m   1523\u001b[0m \u001b[39m# this function, and just call forward.\u001b[39;00m\n\u001b[1;32m   1524\u001b[0m \u001b[39mif\u001b[39;00m \u001b[39mnot\u001b[39;00m (\u001b[39mself\u001b[39m\u001b[39m.\u001b[39m_backward_hooks \u001b[39mor\u001b[39;00m \u001b[39mself\u001b[39m\u001b[39m.\u001b[39m_backward_pre_hooks \u001b[39mor\u001b[39;00m \u001b[39mself\u001b[39m\u001b[39m.\u001b[39m_forward_hooks \u001b[39mor\u001b[39;00m \u001b[39mself\u001b[39m\u001b[39m.\u001b[39m_forward_pre_hooks\n\u001b[1;32m   1525\u001b[0m         \u001b[39mor\u001b[39;00m _global_backward_pre_hooks \u001b[39mor\u001b[39;00m _global_backward_hooks\n\u001b[1;32m   1526\u001b[0m         \u001b[39mor\u001b[39;00m _global_forward_hooks \u001b[39mor\u001b[39;00m _global_forward_pre_hooks):\n\u001b[0;32m-> 1527\u001b[0m     \u001b[39mreturn\u001b[39;00m forward_call(\u001b[39m*\u001b[39;49margs, \u001b[39m*\u001b[39;49m\u001b[39m*\u001b[39;49mkwargs)\n\u001b[1;32m   1529\u001b[0m \u001b[39mtry\u001b[39;00m:\n\u001b[1;32m   1530\u001b[0m     result \u001b[39m=\u001b[39m \u001b[39mNone\u001b[39;00m\n",
      "File \u001b[0;32m~/Desktop/Projects/audio_analysis/SpeakerVerification_Benchmark/.test/lib/python3.8/site-packages/modelscope/models/audio/sv/DTDNN.py:143\u001b[0m, in \u001b[0;36mCAMPPlus.forward\u001b[0;34m(self, x)\u001b[0m\n\u001b[1;32m    141\u001b[0m x \u001b[39m=\u001b[39m x\u001b[39m.\u001b[39mpermute(\u001b[39m0\u001b[39m, \u001b[39m2\u001b[39m, \u001b[39m1\u001b[39m)  \u001b[39m# (B,T,F) => (B,F,T)\u001b[39;00m\n\u001b[1;32m    142\u001b[0m x \u001b[39m=\u001b[39m \u001b[39mself\u001b[39m\u001b[39m.\u001b[39mhead(x)\n\u001b[0;32m--> 143\u001b[0m x \u001b[39m=\u001b[39m \u001b[39mself\u001b[39;49m\u001b[39m.\u001b[39;49mxvector(x)\n\u001b[1;32m    144\u001b[0m \u001b[39mif\u001b[39;00m \u001b[39mself\u001b[39m\u001b[39m.\u001b[39moutput_level \u001b[39m==\u001b[39m \u001b[39m'\u001b[39m\u001b[39mframe\u001b[39m\u001b[39m'\u001b[39m:\n\u001b[1;32m    145\u001b[0m     x \u001b[39m=\u001b[39m x\u001b[39m.\u001b[39mtranspose(\u001b[39m1\u001b[39m, \u001b[39m2\u001b[39m)\n",
      "File \u001b[0;32m~/Desktop/Projects/audio_analysis/SpeakerVerification_Benchmark/.test/lib/python3.8/site-packages/torch/nn/modules/module.py:1518\u001b[0m, in \u001b[0;36mModule._wrapped_call_impl\u001b[0;34m(self, *args, **kwargs)\u001b[0m\n\u001b[1;32m   1516\u001b[0m     \u001b[39mreturn\u001b[39;00m \u001b[39mself\u001b[39m\u001b[39m.\u001b[39m_compiled_call_impl(\u001b[39m*\u001b[39margs, \u001b[39m*\u001b[39m\u001b[39m*\u001b[39mkwargs)  \u001b[39m# type: ignore[misc]\u001b[39;00m\n\u001b[1;32m   1517\u001b[0m \u001b[39melse\u001b[39;00m:\n\u001b[0;32m-> 1518\u001b[0m     \u001b[39mreturn\u001b[39;00m \u001b[39mself\u001b[39;49m\u001b[39m.\u001b[39;49m_call_impl(\u001b[39m*\u001b[39;49margs, \u001b[39m*\u001b[39;49m\u001b[39m*\u001b[39;49mkwargs)\n",
      "File \u001b[0;32m~/Desktop/Projects/audio_analysis/SpeakerVerification_Benchmark/.test/lib/python3.8/site-packages/torch/nn/modules/module.py:1527\u001b[0m, in \u001b[0;36mModule._call_impl\u001b[0;34m(self, *args, **kwargs)\u001b[0m\n\u001b[1;32m   1522\u001b[0m \u001b[39m# If we don't have any hooks, we want to skip the rest of the logic in\u001b[39;00m\n\u001b[1;32m   1523\u001b[0m \u001b[39m# this function, and just call forward.\u001b[39;00m\n\u001b[1;32m   1524\u001b[0m \u001b[39mif\u001b[39;00m \u001b[39mnot\u001b[39;00m (\u001b[39mself\u001b[39m\u001b[39m.\u001b[39m_backward_hooks \u001b[39mor\u001b[39;00m \u001b[39mself\u001b[39m\u001b[39m.\u001b[39m_backward_pre_hooks \u001b[39mor\u001b[39;00m \u001b[39mself\u001b[39m\u001b[39m.\u001b[39m_forward_hooks \u001b[39mor\u001b[39;00m \u001b[39mself\u001b[39m\u001b[39m.\u001b[39m_forward_pre_hooks\n\u001b[1;32m   1525\u001b[0m         \u001b[39mor\u001b[39;00m _global_backward_pre_hooks \u001b[39mor\u001b[39;00m _global_backward_hooks\n\u001b[1;32m   1526\u001b[0m         \u001b[39mor\u001b[39;00m _global_forward_hooks \u001b[39mor\u001b[39;00m _global_forward_pre_hooks):\n\u001b[0;32m-> 1527\u001b[0m     \u001b[39mreturn\u001b[39;00m forward_call(\u001b[39m*\u001b[39;49margs, \u001b[39m*\u001b[39;49m\u001b[39m*\u001b[39;49mkwargs)\n\u001b[1;32m   1529\u001b[0m \u001b[39mtry\u001b[39;00m:\n\u001b[1;32m   1530\u001b[0m     result \u001b[39m=\u001b[39m \u001b[39mNone\u001b[39;00m\n",
      "File \u001b[0;32m~/Desktop/Projects/audio_analysis/SpeakerVerification_Benchmark/.test/lib/python3.8/site-packages/torch/nn/modules/container.py:215\u001b[0m, in \u001b[0;36mSequential.forward\u001b[0;34m(self, input)\u001b[0m\n\u001b[1;32m    213\u001b[0m \u001b[39mdef\u001b[39;00m \u001b[39mforward\u001b[39m(\u001b[39mself\u001b[39m, \u001b[39minput\u001b[39m):\n\u001b[1;32m    214\u001b[0m     \u001b[39mfor\u001b[39;00m module \u001b[39min\u001b[39;00m \u001b[39mself\u001b[39m:\n\u001b[0;32m--> 215\u001b[0m         \u001b[39minput\u001b[39m \u001b[39m=\u001b[39m module(\u001b[39minput\u001b[39;49m)\n\u001b[1;32m    216\u001b[0m     \u001b[39mreturn\u001b[39;00m \u001b[39minput\u001b[39m\n",
      "File \u001b[0;32m~/Desktop/Projects/audio_analysis/SpeakerVerification_Benchmark/.test/lib/python3.8/site-packages/torch/nn/modules/module.py:1518\u001b[0m, in \u001b[0;36mModule._wrapped_call_impl\u001b[0;34m(self, *args, **kwargs)\u001b[0m\n\u001b[1;32m   1516\u001b[0m     \u001b[39mreturn\u001b[39;00m \u001b[39mself\u001b[39m\u001b[39m.\u001b[39m_compiled_call_impl(\u001b[39m*\u001b[39margs, \u001b[39m*\u001b[39m\u001b[39m*\u001b[39mkwargs)  \u001b[39m# type: ignore[misc]\u001b[39;00m\n\u001b[1;32m   1517\u001b[0m \u001b[39melse\u001b[39;00m:\n\u001b[0;32m-> 1518\u001b[0m     \u001b[39mreturn\u001b[39;00m \u001b[39mself\u001b[39;49m\u001b[39m.\u001b[39;49m_call_impl(\u001b[39m*\u001b[39;49margs, \u001b[39m*\u001b[39;49m\u001b[39m*\u001b[39;49mkwargs)\n",
      "File \u001b[0;32m~/Desktop/Projects/audio_analysis/SpeakerVerification_Benchmark/.test/lib/python3.8/site-packages/torch/nn/modules/module.py:1527\u001b[0m, in \u001b[0;36mModule._call_impl\u001b[0;34m(self, *args, **kwargs)\u001b[0m\n\u001b[1;32m   1522\u001b[0m \u001b[39m# If we don't have any hooks, we want to skip the rest of the logic in\u001b[39;00m\n\u001b[1;32m   1523\u001b[0m \u001b[39m# this function, and just call forward.\u001b[39;00m\n\u001b[1;32m   1524\u001b[0m \u001b[39mif\u001b[39;00m \u001b[39mnot\u001b[39;00m (\u001b[39mself\u001b[39m\u001b[39m.\u001b[39m_backward_hooks \u001b[39mor\u001b[39;00m \u001b[39mself\u001b[39m\u001b[39m.\u001b[39m_backward_pre_hooks \u001b[39mor\u001b[39;00m \u001b[39mself\u001b[39m\u001b[39m.\u001b[39m_forward_hooks \u001b[39mor\u001b[39;00m \u001b[39mself\u001b[39m\u001b[39m.\u001b[39m_forward_pre_hooks\n\u001b[1;32m   1525\u001b[0m         \u001b[39mor\u001b[39;00m _global_backward_pre_hooks \u001b[39mor\u001b[39;00m _global_backward_hooks\n\u001b[1;32m   1526\u001b[0m         \u001b[39mor\u001b[39;00m _global_forward_hooks \u001b[39mor\u001b[39;00m _global_forward_pre_hooks):\n\u001b[0;32m-> 1527\u001b[0m     \u001b[39mreturn\u001b[39;00m forward_call(\u001b[39m*\u001b[39;49margs, \u001b[39m*\u001b[39;49m\u001b[39m*\u001b[39;49mkwargs)\n\u001b[1;32m   1529\u001b[0m \u001b[39mtry\u001b[39;00m:\n\u001b[1;32m   1530\u001b[0m     result \u001b[39m=\u001b[39m \u001b[39mNone\u001b[39;00m\n",
      "File \u001b[0;32m~/Desktop/Projects/audio_analysis/SpeakerVerification_Benchmark/.test/lib/python3.8/site-packages/modelscope/models/audio/sv/DTDNN_layers.py:193\u001b[0m, in \u001b[0;36mCAMDenseTDNNBlock.forward\u001b[0;34m(self, x)\u001b[0m\n\u001b[1;32m    191\u001b[0m \u001b[39mdef\u001b[39;00m \u001b[39mforward\u001b[39m(\u001b[39mself\u001b[39m, x):\n\u001b[1;32m    192\u001b[0m     \u001b[39mfor\u001b[39;00m layer \u001b[39min\u001b[39;00m \u001b[39mself\u001b[39m:\n\u001b[0;32m--> 193\u001b[0m         x \u001b[39m=\u001b[39m torch\u001b[39m.\u001b[39mcat([x, layer(x)], dim\u001b[39m=\u001b[39m\u001b[39m1\u001b[39m)\n\u001b[1;32m    194\u001b[0m     \u001b[39mreturn\u001b[39;00m x\n",
      "File \u001b[0;32m~/Desktop/Projects/audio_analysis/SpeakerVerification_Benchmark/.test/lib/python3.8/site-packages/torch/nn/modules/module.py:1518\u001b[0m, in \u001b[0;36mModule._wrapped_call_impl\u001b[0;34m(self, *args, **kwargs)\u001b[0m\n\u001b[1;32m   1516\u001b[0m     \u001b[39mreturn\u001b[39;00m \u001b[39mself\u001b[39m\u001b[39m.\u001b[39m_compiled_call_impl(\u001b[39m*\u001b[39margs, \u001b[39m*\u001b[39m\u001b[39m*\u001b[39mkwargs)  \u001b[39m# type: ignore[misc]\u001b[39;00m\n\u001b[1;32m   1517\u001b[0m \u001b[39melse\u001b[39;00m:\n\u001b[0;32m-> 1518\u001b[0m     \u001b[39mreturn\u001b[39;00m \u001b[39mself\u001b[39;49m\u001b[39m.\u001b[39;49m_call_impl(\u001b[39m*\u001b[39;49margs, \u001b[39m*\u001b[39;49m\u001b[39m*\u001b[39;49mkwargs)\n",
      "File \u001b[0;32m~/Desktop/Projects/audio_analysis/SpeakerVerification_Benchmark/.test/lib/python3.8/site-packages/torch/nn/modules/module.py:1527\u001b[0m, in \u001b[0;36mModule._call_impl\u001b[0;34m(self, *args, **kwargs)\u001b[0m\n\u001b[1;32m   1522\u001b[0m \u001b[39m# If we don't have any hooks, we want to skip the rest of the logic in\u001b[39;00m\n\u001b[1;32m   1523\u001b[0m \u001b[39m# this function, and just call forward.\u001b[39;00m\n\u001b[1;32m   1524\u001b[0m \u001b[39mif\u001b[39;00m \u001b[39mnot\u001b[39;00m (\u001b[39mself\u001b[39m\u001b[39m.\u001b[39m_backward_hooks \u001b[39mor\u001b[39;00m \u001b[39mself\u001b[39m\u001b[39m.\u001b[39m_backward_pre_hooks \u001b[39mor\u001b[39;00m \u001b[39mself\u001b[39m\u001b[39m.\u001b[39m_forward_hooks \u001b[39mor\u001b[39;00m \u001b[39mself\u001b[39m\u001b[39m.\u001b[39m_forward_pre_hooks\n\u001b[1;32m   1525\u001b[0m         \u001b[39mor\u001b[39;00m _global_backward_pre_hooks \u001b[39mor\u001b[39;00m _global_backward_hooks\n\u001b[1;32m   1526\u001b[0m         \u001b[39mor\u001b[39;00m _global_forward_hooks \u001b[39mor\u001b[39;00m _global_forward_pre_hooks):\n\u001b[0;32m-> 1527\u001b[0m     \u001b[39mreturn\u001b[39;00m forward_call(\u001b[39m*\u001b[39;49margs, \u001b[39m*\u001b[39;49m\u001b[39m*\u001b[39;49mkwargs)\n\u001b[1;32m   1529\u001b[0m \u001b[39mtry\u001b[39;00m:\n\u001b[1;32m   1530\u001b[0m     result \u001b[39m=\u001b[39m \u001b[39mNone\u001b[39;00m\n",
      "File \u001b[0;32m~/Desktop/Projects/audio_analysis/SpeakerVerification_Benchmark/.test/lib/python3.8/site-packages/modelscope/models/audio/sv/DTDNN_layers.py:159\u001b[0m, in \u001b[0;36mCAMDenseTDNNLayer.forward\u001b[0;34m(self, x)\u001b[0m\n\u001b[1;32m    157\u001b[0m     x \u001b[39m=\u001b[39m cp\u001b[39m.\u001b[39mcheckpoint(\u001b[39mself\u001b[39m\u001b[39m.\u001b[39mbn_function, x)\n\u001b[1;32m    158\u001b[0m \u001b[39melse\u001b[39;00m:\n\u001b[0;32m--> 159\u001b[0m     x \u001b[39m=\u001b[39m \u001b[39mself\u001b[39;49m\u001b[39m.\u001b[39;49mbn_function(x)\n\u001b[1;32m    160\u001b[0m x \u001b[39m=\u001b[39m \u001b[39mself\u001b[39m\u001b[39m.\u001b[39mcam_layer(\u001b[39mself\u001b[39m\u001b[39m.\u001b[39mnonlinear2(x))\n\u001b[1;32m    161\u001b[0m \u001b[39mreturn\u001b[39;00m x\n",
      "File \u001b[0;32m~/Desktop/Projects/audio_analysis/SpeakerVerification_Benchmark/.test/lib/python3.8/site-packages/modelscope/models/audio/sv/DTDNN_layers.py:153\u001b[0m, in \u001b[0;36mCAMDenseTDNNLayer.bn_function\u001b[0;34m(self, x)\u001b[0m\n\u001b[1;32m    152\u001b[0m \u001b[39mdef\u001b[39;00m \u001b[39mbn_function\u001b[39m(\u001b[39mself\u001b[39m, x):\n\u001b[0;32m--> 153\u001b[0m     \u001b[39mreturn\u001b[39;00m \u001b[39mself\u001b[39;49m\u001b[39m.\u001b[39;49mlinear1(\u001b[39mself\u001b[39;49m\u001b[39m.\u001b[39;49mnonlinear1(x))\n",
      "File \u001b[0;32m~/Desktop/Projects/audio_analysis/SpeakerVerification_Benchmark/.test/lib/python3.8/site-packages/torch/nn/modules/module.py:1518\u001b[0m, in \u001b[0;36mModule._wrapped_call_impl\u001b[0;34m(self, *args, **kwargs)\u001b[0m\n\u001b[1;32m   1516\u001b[0m     \u001b[39mreturn\u001b[39;00m \u001b[39mself\u001b[39m\u001b[39m.\u001b[39m_compiled_call_impl(\u001b[39m*\u001b[39margs, \u001b[39m*\u001b[39m\u001b[39m*\u001b[39mkwargs)  \u001b[39m# type: ignore[misc]\u001b[39;00m\n\u001b[1;32m   1517\u001b[0m \u001b[39melse\u001b[39;00m:\n\u001b[0;32m-> 1518\u001b[0m     \u001b[39mreturn\u001b[39;00m \u001b[39mself\u001b[39;49m\u001b[39m.\u001b[39;49m_call_impl(\u001b[39m*\u001b[39;49margs, \u001b[39m*\u001b[39;49m\u001b[39m*\u001b[39;49mkwargs)\n",
      "File \u001b[0;32m~/Desktop/Projects/audio_analysis/SpeakerVerification_Benchmark/.test/lib/python3.8/site-packages/torch/nn/modules/module.py:1527\u001b[0m, in \u001b[0;36mModule._call_impl\u001b[0;34m(self, *args, **kwargs)\u001b[0m\n\u001b[1;32m   1522\u001b[0m \u001b[39m# If we don't have any hooks, we want to skip the rest of the logic in\u001b[39;00m\n\u001b[1;32m   1523\u001b[0m \u001b[39m# this function, and just call forward.\u001b[39;00m\n\u001b[1;32m   1524\u001b[0m \u001b[39mif\u001b[39;00m \u001b[39mnot\u001b[39;00m (\u001b[39mself\u001b[39m\u001b[39m.\u001b[39m_backward_hooks \u001b[39mor\u001b[39;00m \u001b[39mself\u001b[39m\u001b[39m.\u001b[39m_backward_pre_hooks \u001b[39mor\u001b[39;00m \u001b[39mself\u001b[39m\u001b[39m.\u001b[39m_forward_hooks \u001b[39mor\u001b[39;00m \u001b[39mself\u001b[39m\u001b[39m.\u001b[39m_forward_pre_hooks\n\u001b[1;32m   1525\u001b[0m         \u001b[39mor\u001b[39;00m _global_backward_pre_hooks \u001b[39mor\u001b[39;00m _global_backward_hooks\n\u001b[1;32m   1526\u001b[0m         \u001b[39mor\u001b[39;00m _global_forward_hooks \u001b[39mor\u001b[39;00m _global_forward_pre_hooks):\n\u001b[0;32m-> 1527\u001b[0m     \u001b[39mreturn\u001b[39;00m forward_call(\u001b[39m*\u001b[39;49margs, \u001b[39m*\u001b[39;49m\u001b[39m*\u001b[39;49mkwargs)\n\u001b[1;32m   1529\u001b[0m \u001b[39mtry\u001b[39;00m:\n\u001b[1;32m   1530\u001b[0m     result \u001b[39m=\u001b[39m \u001b[39mNone\u001b[39;00m\n",
      "File \u001b[0;32m~/Desktop/Projects/audio_analysis/SpeakerVerification_Benchmark/.test/lib/python3.8/site-packages/torch/nn/modules/conv.py:310\u001b[0m, in \u001b[0;36mConv1d.forward\u001b[0;34m(self, input)\u001b[0m\n\u001b[1;32m    309\u001b[0m \u001b[39mdef\u001b[39;00m \u001b[39mforward\u001b[39m(\u001b[39mself\u001b[39m, \u001b[39minput\u001b[39m: Tensor) \u001b[39m-\u001b[39m\u001b[39m>\u001b[39m Tensor:\n\u001b[0;32m--> 310\u001b[0m     \u001b[39mreturn\u001b[39;00m \u001b[39mself\u001b[39;49m\u001b[39m.\u001b[39;49m_conv_forward(\u001b[39minput\u001b[39;49m, \u001b[39mself\u001b[39;49m\u001b[39m.\u001b[39;49mweight, \u001b[39mself\u001b[39;49m\u001b[39m.\u001b[39;49mbias)\n",
      "File \u001b[0;32m~/Desktop/Projects/audio_analysis/SpeakerVerification_Benchmark/.test/lib/python3.8/site-packages/torch/nn/modules/conv.py:306\u001b[0m, in \u001b[0;36mConv1d._conv_forward\u001b[0;34m(self, input, weight, bias)\u001b[0m\n\u001b[1;32m    302\u001b[0m \u001b[39mif\u001b[39;00m \u001b[39mself\u001b[39m\u001b[39m.\u001b[39mpadding_mode \u001b[39m!=\u001b[39m \u001b[39m'\u001b[39m\u001b[39mzeros\u001b[39m\u001b[39m'\u001b[39m:\n\u001b[1;32m    303\u001b[0m     \u001b[39mreturn\u001b[39;00m F\u001b[39m.\u001b[39mconv1d(F\u001b[39m.\u001b[39mpad(\u001b[39minput\u001b[39m, \u001b[39mself\u001b[39m\u001b[39m.\u001b[39m_reversed_padding_repeated_twice, mode\u001b[39m=\u001b[39m\u001b[39mself\u001b[39m\u001b[39m.\u001b[39mpadding_mode),\n\u001b[1;32m    304\u001b[0m                     weight, bias, \u001b[39mself\u001b[39m\u001b[39m.\u001b[39mstride,\n\u001b[1;32m    305\u001b[0m                     _single(\u001b[39m0\u001b[39m), \u001b[39mself\u001b[39m\u001b[39m.\u001b[39mdilation, \u001b[39mself\u001b[39m\u001b[39m.\u001b[39mgroups)\n\u001b[0;32m--> 306\u001b[0m \u001b[39mreturn\u001b[39;00m F\u001b[39m.\u001b[39;49mconv1d(\u001b[39minput\u001b[39;49m, weight, bias, \u001b[39mself\u001b[39;49m\u001b[39m.\u001b[39;49mstride,\n\u001b[1;32m    307\u001b[0m                 \u001b[39mself\u001b[39;49m\u001b[39m.\u001b[39;49mpadding, \u001b[39mself\u001b[39;49m\u001b[39m.\u001b[39;49mdilation, \u001b[39mself\u001b[39;49m\u001b[39m.\u001b[39;49mgroups)\n",
      "\u001b[0;31mKeyboardInterrupt\u001b[0m: "
     ]
    }
   ],
   "source": [
    "\n",
    "compar_tab = pd.DataFrame(columns = ['spk_1', 'spk_2', 'duration_1', 'duration_2', 'score_classic', 'score_CAM++', 'TDN_score','path_1', 'path_2'])\n",
    "already_done = []\n",
    "with tqdm(total=len(data)*len(data)) as pbar:\n",
    "    for sample_1 in data :\n",
    "        spk_1 = sample_1[1]\n",
    "        ref_embed, _ = embed_inference(sample_1[0])\n",
    "\n",
    "        audio_1, _ = torchaudio.load(sample_1[0])\n",
    "        for sample_2 in data :\n",
    "\n",
    "            if {sample_1[0],sample_2[0]} not in already_done :\n",
    "                print('test')\n",
    "                spk_2 = sample_2[1]\n",
    "\n",
    "                \n",
    "                embed, _ = embed_inference(sample_2[0])\n",
    "                audio_2, _ = torchaudio.load(sample_2[0])\n",
    "                loss_val = sim(ref_embed, embed)\n",
    "\n",
    "                #print(audio_1.shape, audio_1)\n",
    "                embeddings = model(audio_1)\n",
    "                embeddings2 = model(audio_2)\n",
    "                cam_score_model = sim(embeddings, embeddings2)\n",
    "                \n",
    "\n",
    "\n",
    "\n",
    "                TDN_score = verification.verify_files(sample_1[0], sample_2[0]) # Different Speakers\n",
    "                compar_tab.loc[len(compar_tab)] = [spk_1, spk_2, len(audio_1)/16000, len(audio_2)/16000, loss_val.item(),cam_score_model, TDN_score, sample_1[0], sample_2[0]]\n",
    "\n",
    "                already_done.append({sample_1[0],sample_2[0]})\n",
    "                #print(label, val)\n",
    "            pbar.update(1)\n",
    "       \n",
    "\n",
    "           \n",
    "compar_tab.to_csv('compar_tab_2.csv', index=False)"
   ]
  },
  {
   "cell_type": "code",
   "execution_count": 47,
   "metadata": {},
   "outputs": [],
   "source": [
    "import numpy as np\n",
    "from sklearn.metrics import roc_curve, auc\n",
    "\n",
    "def calculate_eer_and_fpr_fnr(scores, labels):\n",
    "    fpr, tpr, thresholds = roc_curve(labels, scores)\n",
    "    fnr = 1 - tpr\n",
    "\n",
    "    eer_threshold = thresholds[np.nanargmin(np.abs(fnr - fpr))]\n",
    "    eer = fnr[np.nanargmin(np.abs(fnr - fpr))]\n",
    "\n",
    "    fpp = np.sum((scores >= eer_threshold) & (labels == 0))\n",
    "    fnp = np.sum((scores < eer_threshold) & (labels == 1))\n",
    "    total_negatives = np.sum(labels == 0)\n",
    "    total_positives = np.sum(labels == 1)\n",
    "\n",
    "    print(labels)\n",
    "    print(scores)\n",
    "    return eer, fpp, fnp, total_positives, total_negatives\n",
    "\n",
    "# Replace 'verification_scores' and 'verification_labels' with your actual data\n",
    "\n",
    "\n",
    "# print(f\"Equal Error Rate (EER): {eer * 100:.2f}%\")\n",
    "# print(f\"False Positive Predictions (FPP): {fpp}\")\n",
    "# print(f\"False Negative Predictions (FNP): {fnp}\")\n",
    "# print(f\"Total Positives: {total_positives}\")\n",
    "# print(f\"Total Negatives: {total_negatives}\")\n"
   ]
  },
  {
   "cell_type": "code",
   "execution_count": 34,
   "metadata": {},
   "outputs": [
    {
     "name": "stdout",
     "output_type": "stream",
     "text": [
      "******************************************************************\n",
      "********************** CHOSEN TRESHOLD :  0.2  **********************\n"
     ]
    },
    {
     "ename": "IndexError",
     "evalue": "list index out of range",
     "output_type": "error",
     "traceback": [
      "\u001b[0;31m---------------------------------------------------------------------------\u001b[0m",
      "\u001b[0;31mIndexError\u001b[0m                                Traceback (most recent call last)",
      "\u001b[1;32m/Users/hugo/Desktop/Projects/audio_analysis/SpeakerVerification_Benchmark/speaker_recognition.ipynb Cell 13\u001b[0m line \u001b[0;36m2\n\u001b[1;32m     <a href='vscode-notebook-cell:/Users/hugo/Desktop/Projects/audio_analysis/SpeakerVerification_Benchmark/speaker_recognition.ipynb#X30sZmlsZQ%3D%3D?line=19'>20</a>\u001b[0m \u001b[39mfor\u001b[39;00m row, line \u001b[39min\u001b[39;00m df\u001b[39m.\u001b[39miterrows():\n\u001b[1;32m     <a href='vscode-notebook-cell:/Users/hugo/Desktop/Projects/audio_analysis/SpeakerVerification_Benchmark/speaker_recognition.ipynb#X30sZmlsZQ%3D%3D?line=20'>21</a>\u001b[0m     score_classic \u001b[39m=\u001b[39m line[\u001b[39m'\u001b[39m\u001b[39mscore_classic\u001b[39m\u001b[39m'\u001b[39m]\n\u001b[0;32m---> <a href='vscode-notebook-cell:/Users/hugo/Desktop/Projects/audio_analysis/SpeakerVerification_Benchmark/speaker_recognition.ipynb#X30sZmlsZQ%3D%3D?line=22'>23</a>\u001b[0m     CAM \u001b[39m=\u001b[39m str_to_dict_cam(line[\u001b[39m'\u001b[39;49m\u001b[39mscore_CAM++\u001b[39;49m\u001b[39m'\u001b[39;49m])\n\u001b[1;32m     <a href='vscode-notebook-cell:/Users/hugo/Desktop/Projects/audio_analysis/SpeakerVerification_Benchmark/speaker_recognition.ipynb#X30sZmlsZQ%3D%3D?line=23'>24</a>\u001b[0m     score_CAM \u001b[39m=\u001b[39m \u001b[39mfloat\u001b[39m(CAM[\u001b[39m'\u001b[39m\u001b[39mscore\u001b[39m\u001b[39m'\u001b[39m])\n\u001b[1;32m     <a href='vscode-notebook-cell:/Users/hugo/Desktop/Projects/audio_analysis/SpeakerVerification_Benchmark/speaker_recognition.ipynb#X30sZmlsZQ%3D%3D?line=25'>26</a>\u001b[0m     TDN \u001b[39m=\u001b[39m str_to_dict_TDN(line[\u001b[39m'\u001b[39m\u001b[39mTDN_score\u001b[39m\u001b[39m'\u001b[39m])\n",
      "\u001b[1;32m/Users/hugo/Desktop/Projects/audio_analysis/SpeakerVerification_Benchmark/speaker_recognition.ipynb Cell 13\u001b[0m line \u001b[0;36m1\n\u001b[1;32m      <a href='vscode-notebook-cell:/Users/hugo/Desktop/Projects/audio_analysis/SpeakerVerification_Benchmark/speaker_recognition.ipynb#X30sZmlsZQ%3D%3D?line=8'>9</a>\u001b[0m \u001b[39mfor\u001b[39;00m i \u001b[39min\u001b[39;00m \u001b[39minput\u001b[39m :\n\u001b[1;32m     <a href='vscode-notebook-cell:/Users/hugo/Desktop/Projects/audio_analysis/SpeakerVerification_Benchmark/speaker_recognition.ipynb#X30sZmlsZQ%3D%3D?line=9'>10</a>\u001b[0m     i \u001b[39m=\u001b[39m i\u001b[39m.\u001b[39msplit(\u001b[39m'\u001b[39m\u001b[39m:\u001b[39m\u001b[39m'\u001b[39m)\n\u001b[0;32m---> <a href='vscode-notebook-cell:/Users/hugo/Desktop/Projects/audio_analysis/SpeakerVerification_Benchmark/speaker_recognition.ipynb#X30sZmlsZQ%3D%3D?line=10'>11</a>\u001b[0m     output[i[\u001b[39m0\u001b[39m]] \u001b[39m=\u001b[39m i[\u001b[39m1\u001b[39;49m]\n\u001b[1;32m     <a href='vscode-notebook-cell:/Users/hugo/Desktop/Projects/audio_analysis/SpeakerVerification_Benchmark/speaker_recognition.ipynb#X30sZmlsZQ%3D%3D?line=11'>12</a>\u001b[0m \u001b[39mreturn\u001b[39;00m output\n",
      "\u001b[0;31mIndexError\u001b[0m: list index out of range"
     ]
    }
   ],
   "source": []
  },
  {
   "cell_type": "code",
   "execution_count": 37,
   "metadata": {},
   "outputs": [],
   "source": [
    "text = 'tensor([1.0000])'"
   ]
  },
  {
   "cell_type": "code",
   "execution_count": 40,
   "metadata": {},
   "outputs": [],
   "source": [
    "# How to change a str written like {'score':1.0 , 'text':'hello'} to a dict\n",
    "def str_to_dict_cam(input : str):\n",
    "    input = input.replace(' ', '')\n",
    "    input = input.replace('tensor', '')\n",
    "    input = input.replace('(', '')\n",
    "    input = input.replace(')', '')\n",
    "    input = input.replace(\"[\", '')\n",
    "    input = input.replace(\"]\", '')\n",
    "\n",
    "\n",
    "    return input"
   ]
  },
  {
   "cell_type": "code",
   "execution_count": 41,
   "metadata": {},
   "outputs": [
    {
     "name": "stdout",
     "output_type": "stream",
     "text": [
      "1.0000\n"
     ]
    }
   ],
   "source": [
    "print(str_to_dict_cam(text))"
   ]
  },
  {
   "cell_type": "code",
   "execution_count": 33,
   "metadata": {},
   "outputs": [],
   "source": [
    "def str_to_dict_TDN(input : str):\n",
    "    input = input.replace('tensor', '')\n",
    "    input = input.replace(' ', '')\n",
    "    input = input.replace('{', '')\n",
    "    input = input.replace('}', '')\n",
    "    input = input.replace(\"'\", '')\n",
    "    input = input.replace(\"(\", '')\n",
    "    input = input.replace(\")\", '')\n",
    "    input = input.replace('[', '')\n",
    "    input = input.replace(']', '')\n",
    "\n",
    "    output = input.split(',')\n",
    "\n",
    "    return output"
   ]
  },
  {
   "cell_type": "code",
   "execution_count": 52,
   "metadata": {},
   "outputs": [
    {
     "name": "stdout",
     "output_type": "stream",
     "text": [
      "********************** CHOSEN TRESHOLD :  0.2  **********************\n",
      "For RESNET : False positive : 22 False negative : 142\n",
      "For CAM++ : False positive : 18 False negative : 84\n",
      "For TDN : False positive : 20 False negative : 32\n",
      "For RESNET : EER Accuracy : 17.903285345145807\n",
      "For CAM++ : EER Accuracy : 12.56921373200443\n",
      "For TDN : EER Accuracy : 10.003691399040235\n",
      "********************** CHOSEN TRESHOLD :  0.3  **********************\n",
      "For RESNET : False positive : 32 False negative : 36\n",
      "For CAM++ : False positive : 30 False negative : 10\n",
      "For TDN : False positive : 36 False negative : 6\n",
      "For RESNET : EER Accuracy : 15.023994093761534\n",
      "For CAM++ : EER Accuracy : 12.550756736803248\n",
      "For TDN : EER Accuracy : 14.673311184939092\n",
      "********************** CHOSEN TRESHOLD :  0.4  **********************\n",
      "For RESNET : False positive : 60 False negative : 4\n",
      "For CAM++ : False positive : 52 False negative : 2\n",
      "For TDN : False positive : 68 False negative : 0\n",
      "For RESNET : EER Accuracy : 24.067921742340346\n",
      "For CAM++ : EER Accuracy : 20.764119601328904\n",
      "For TDN : EER Accuracy : 26.984126984126984\n",
      "********************** CHOSEN TRESHOLD :  0.5  **********************\n",
      "For RESNET : False positive : 78 False negative : 0\n",
      "For CAM++ : False positive : 70 False negative : 0\n",
      "For TDN : False positive : 80 False negative : 0\n",
      "For RESNET : EER Accuracy : 30.952380952380953\n",
      "For CAM++ : EER Accuracy : 27.77777777777778\n",
      "For TDN : EER Accuracy : 31.746031746031743\n",
      "********************** CHOSEN TRESHOLD :  0.6  **********************\n",
      "For RESNET : False positive : 88 False negative : 0\n",
      "For CAM++ : False positive : 82 False negative : 0\n",
      "For TDN : False positive : 84 False negative : 0\n",
      "For RESNET : EER Accuracy : 34.92063492063492\n",
      "For CAM++ : EER Accuracy : 32.53968253968254\n",
      "For TDN : EER Accuracy : 33.33333333333333\n",
      "********************** CHOSEN TRESHOLD :  0.7  **********************\n",
      "For RESNET : False positive : 94 False negative : 0\n",
      "For CAM++ : False positive : 92 False negative : 0\n",
      "For TDN : False positive : 92 False negative : 0\n",
      "For RESNET : EER Accuracy : 37.301587301587304\n",
      "For CAM++ : EER Accuracy : 36.507936507936506\n",
      "For TDN : EER Accuracy : 36.507936507936506\n"
     ]
    }
   ],
   "source": [
    "df = pd.read_csv('compar_tab.csv')\n",
    "\n",
    "false_positive_classic = 0\n",
    "false_positive_CAM = 0\n",
    "false_negative_classic = 0\n",
    "false_negative_CAM = 0\n",
    "false_positive_TDN = 0\n",
    "false_negative_TDN = 0\n",
    "positive = 0\n",
    "negative = 0\n",
    "treshold = 0.3\n",
    "\n",
    "for treshold in [0.2,0.3,0.4,0.5,0.6,0.7] :\n",
    "    print('********************** CHOSEN TRESHOLD : ', treshold, ' **********************')\n",
    "    for row, line in df.iterrows():\n",
    "        score_classic = line['score_classic']\n",
    "    \n",
    "        CAM = str_to_dict_cam(line['score_CAM++'])\n",
    "        score_CAM = float(CAM)\n",
    "        \n",
    "        TDN = str_to_dict_TDN(line['TDN_score'])\n",
    "        score_TDN = float(TDN[0])\n",
    "\n",
    "        if line['spk_1'] == line['spk_2'] :\n",
    "            positive += 1\n",
    "            if score_classic < treshold :\n",
    "                false_positive_classic += 1\n",
    "            if score_CAM < treshold :\n",
    "                false_positive_CAM += 1\n",
    "            if score_TDN < treshold :\n",
    "                false_positive_TDN += 1\n",
    "        else :\n",
    "            negative += 1\n",
    "            if score_classic > treshold :\n",
    "                false_negative_classic += 1\n",
    "            if score_CAM > treshold :\n",
    "                false_negative_CAM += 1\n",
    "            if score_TDN > treshold :\n",
    "                false_negative_TDN += 1\n",
    "\n",
    "    print(f'For RESNET : False positive : {false_positive_classic} False negative : {false_negative_classic}')\n",
    "    print(f'For CAM++ : False positive : {false_positive_CAM} False negative : {false_negative_CAM}')\n",
    "    print(f'For TDN : False positive : {false_positive_TDN} False negative : {false_negative_TDN}')\n",
    "    print(f'For RESNET : EER Accuracy : {100*((false_negative_classic/negative)+(false_positive_classic/positive))/2}')\n",
    "    print(f'For CAM++ : EER Accuracy : {100*((false_negative_CAM/negative)+(false_positive_CAM/positive))/2}')   \n",
    "    print(f'For TDN : EER Accuracy : {100*((false_negative_TDN/negative)+(false_positive_TDN/positive))/2}')\n",
    "\n",
    "    false_positive_classic = 0\n",
    "    false_positive_CAM = 0\n",
    "    false_negative_classic = 0\n",
    "    false_negative_CAM = 0\n",
    "    false_positive_TDN = 0\n",
    "    false_negative_TDN = 0\n",
    "    positive = 0\n",
    "    negative = 0"
   ]
  },
  {
   "cell_type": "code",
   "execution_count": 59,
   "metadata": {},
   "outputs": [],
   "source": [
    "test = []\n",
    "\n",
    "path1 = '23456789876543'\n",
    "path2 = '12345678987654'\n",
    "path3 = '12345678937654'\n",
    "\n"
   ]
  },
  {
   "cell_type": "code",
   "execution_count": 61,
   "metadata": {},
   "outputs": [],
   "source": [
    "test.append({path1, path2})"
   ]
  },
  {
   "cell_type": "code",
   "execution_count": 64,
   "metadata": {},
   "outputs": [
    {
     "name": "stdout",
     "output_type": "stream",
     "text": [
      "yes\n"
     ]
    }
   ],
   "source": [
    "if {path2, path1} in test :\n",
    "    print('yes')"
   ]
  },
  {
   "cell_type": "code",
   "execution_count": null,
   "metadata": {},
   "outputs": [],
   "source": []
  }
 ],
 "metadata": {
  "kernelspec": {
   "display_name": ".env",
   "language": "python",
   "name": "python3"
  },
  "language_info": {
   "codemirror_mode": {
    "name": "ipython",
    "version": 3
   },
   "file_extension": ".py",
   "mimetype": "text/x-python",
   "name": "python",
   "nbconvert_exporter": "python",
   "pygments_lexer": "ipython3",
   "version": "3.8.18"
  },
  "orig_nbformat": 4
 },
 "nbformat": 4,
 "nbformat_minor": 2
}
