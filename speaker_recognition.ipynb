{
 "cells": [
  {
   "cell_type": "code",
   "execution_count": 1,
   "metadata": {},
   "outputs": [],
   "source": [
    "from models.resnet.resnet_se_34v2 import ResNetSE34V2\n",
    "from torchaudio.transforms import MelSpectrogram\n",
    "from torchaudio.functional import amplitude_to_DB\n",
    "import torch\n",
    "import torchaudio\n",
    "import librosa\n",
    "import numpy as np\n",
    "import os\n",
    "import pandas as pd\n",
    "from tqdm import tqdm\n",
    "import yaml\n",
    "import random"
   ]
  },
  {
   "cell_type": "code",
   "execution_count": 2,
   "metadata": {},
   "outputs": [],
   "source": [
    "DATASET_PATH = \"IEMOCAP_full_release\"\n",
    "PATH = os.path.join(os.getcwd(), DATASET_PATH)"
   ]
  },
  {
   "cell_type": "code",
   "execution_count": 3,
   "metadata": {},
   "outputs": [],
   "source": [
    "data = []\n",
    "spk_M = 0\n",
    "spk_F = 0\n",
    "\n",
    "for i, subdir in enumerate(os.listdir(PATH)):\n",
    "\n",
    "\n",
    "    if (subdir[0] != '.'):\n",
    "        #for j in random.sample(range(0, 20), 2):\n",
    "        #for i, file in enumerate(os.listdir(os.path.join(PATH, subdir)+'/sentences/wav')):\n",
    "        file = os.listdir(os.path.join(PATH, subdir)+'/sentences/wav')\n",
    "        file_M = [path for path in file if path[5] == 'M']\n",
    "        file_F = [path for path in file if path[5] == 'F']\n",
    "\n",
    "        #Choose 2 random file in a directory \n",
    "        for j in random.sample(range(0, 10), 2):\n",
    "            \n",
    "      \n",
    "            file2 = os.listdir(os.path.join(PATH, subdir)+'/sentences/wav/'+file_M[j]) \n",
    "\n",
    "            file2_M = [path for path in file2 if path[-8] == 'M']\n",
    "            file2_F = [path for path in file2 if path[-8] == 'F']\n",
    "\n",
    "            for k in random.sample(range(0, 10), 5):\n",
    "\n",
    "\n",
    "                sample_M = os.path.join(PATH, subdir)+'/sentences/wav/'+file_M[j] +'/'+ file2_M[k]\n",
    "                data.append([sample_M, \"Spk_\"+str(2*int(subdir[-1])-1)])\n",
    "                sample_F = os.path.join(PATH, subdir)+'/sentences/wav/'+file_M[j] +'/'+ file2_F[k]\n",
    "                data.append([sample_F, \"Spk_\"+str(2*int(subdir[-1]))])\n",
    "\n",
    "\n",
    "            file2 = os.listdir(os.path.join(PATH, subdir)+'/sentences/wav/'+file_F[j])\n",
    "\n",
    "            file2_M = [path for path in file2 if path[-8] == 'M']\n",
    "            file2_F = [path for path in file2 if path[-8] == 'F']\n",
    "\n",
    "            for k in random.sample(range(0, 10), 5):\n",
    "\n",
    "\n",
    "                sample_M = os.path.join(PATH, subdir)+'/sentences/wav/'+file_F[j] +'/'+ file2_M[k]\n",
    "                data.append([sample_M, \"Spk_\"+str(2*int(subdir[-1])-1)])\n",
    "                sample_F = os.path.join(PATH, subdir)+'/sentences/wav/'+file_F[j] +'/'+ file2_F[k]\n",
    "                data.append([sample_F, \"Spk_\"+str(2*int(subdir[-1]))])"
   ]
  },
  {
   "cell_type": "code",
   "execution_count": 4,
   "metadata": {},
   "outputs": [
    {
     "name": "stdout",
     "output_type": "stream",
     "text": [
      "200\n"
     ]
    }
   ],
   "source": [
    "print(len(data))"
   ]
  },
  {
   "cell_type": "code",
   "execution_count": 5,
   "metadata": {},
   "outputs": [
    {
     "name": "stdout",
     "output_type": "stream",
     "text": [
      "{0: 20, 1: 20, 2: 20, 3: 20, 4: 20, 5: 20, 6: 20, 7: 20, 8: 20, 9: 20}\n"
     ]
    }
   ],
   "source": [
    "num_spk = {0:0, 1:0, 2:0, 3:0, 4:0, 5:0, 6:0, \n",
    "           7:0, 8:0, 9:0}\n",
    "\n",
    "for i in data : \n",
    "    num_spk[int(i[1][-1])] += 1\n",
    "\n",
    "print(num_spk)"
   ]
  },
  {
   "cell_type": "code",
   "execution_count": 6,
   "metadata": {},
   "outputs": [],
   "source": [
    "def load_audio(file):\n",
    "    EPS = 1e-8\n",
    "    s, _ = librosa.load(file, sr=16000)\n",
    "    amax = np.max(np.abs(s))\n",
    "    factor = 1.0 / (amax + EPS)\n",
    "    s = s * factor\n",
    "    return s"
   ]
  },
  {
   "cell_type": "code",
   "execution_count": 7,
   "metadata": {},
   "outputs": [
    {
     "name": "stdout",
     "output_type": "stream",
     "text": [
      "Embedding size is 256, encoder SAP.\n"
     ]
    }
   ],
   "source": [
    "with open('./models/resnet/config.yaml') as f:\n",
    "    config = yaml.safe_load(f)\n",
    "\n",
    "sd = torch.load('./models/weigths/resnetse34_epoch92_eer0.00931.pth')\n",
    "model = ResNetSE34V2(nOut=256, n_mels= 80)\n",
    "model.load_state_dict(sd)\n",
    "model.eval()\n",
    "torch.set_grad_enabled(False)\n",
    "\n",
    "transform = MelSpectrogram(\n",
    "    sample_rate= 16000,\n",
    "    n_fft= 512,\n",
    "    win_length= 400,\n",
    "    hop_length= 160,\n",
    "    window_fn=torch.hamming_window,\n",
    "    n_mels= 80,\n",
    "    f_min=20,\n",
    "    f_max=7600,\n",
    "    norm='slaney')\n",
    "\n",
    "\n",
    "def embed_inference(audio_path, transform= transform, model = model):\n",
    "    s = load_audio(audio_path)\n",
    "    #print(type(s))\n",
    "    x = torch.from_numpy(s[None, :])\n",
    "    x = transform(x)\n",
    "    x = amplitude_to_DB(\n",
    "        x, multiplier=10, amin= 1e-5, db_multiplier=0, top_db=75)\n",
    "\n",
    "    feature = model(x[:, None, :, :])\n",
    "    feature = torch.nn.functional.normalize(feature)\n",
    "    return(feature,s)"
   ]
  },
  {
   "cell_type": "markdown",
   "metadata": {},
   "source": [
    "# PROCESS THE TEST"
   ]
  },
  {
   "cell_type": "code",
   "execution_count": 8,
   "metadata": {},
   "outputs": [
    {
     "name": "stderr",
     "output_type": "stream",
     "text": [
      "/Users/hugo/Desktop/Projects/audio_analysis/SpeakerVerification_Benchmark/.test/lib/python3.8/site-packages/tqdm/auto.py:21: TqdmWarning: IProgress not found. Please update jupyter and ipywidgets. See https://ipywidgets.readthedocs.io/en/stable/user_install.html\n",
      "  from .autonotebook import tqdm as notebook_tqdm\n",
      "torchvision is not available - cannot save figures\n"
     ]
    }
   ],
   "source": [
    "import torchaudio\n",
    "from speechbrain.pretrained import EncoderClassifier\n",
    "classifier = EncoderClassifier.from_hparams(source=\"speechbrain/spkrec-ecapa-voxceleb\")"
   ]
  },
  {
   "cell_type": "code",
   "execution_count": 9,
   "metadata": {},
   "outputs": [],
   "source": [
    "from speechbrain.pretrained import SpeakerRecognition\n",
    "verification = SpeakerRecognition.from_hparams(source=\"speechbrain/spkrec-ecapa-voxceleb\", savedir=\"pretrained_models/spkrec-ecapa-voxceleb\")\n"
   ]
  },
  {
   "cell_type": "code",
   "execution_count": 10,
   "metadata": {},
   "outputs": [
    {
     "name": "stderr",
     "output_type": "stream",
     "text": [
      "2023-10-11 19:26:49,417 - modelscope - INFO - PyTorch version 2.1.0 Found.\n",
      "2023-10-11 19:26:49,418 - modelscope - INFO - Loading ast index from /Users/hugo/.cache/modelscope/ast_indexer\n",
      "2023-10-11 19:26:49,472 - modelscope - INFO - Loading done! Current index file version is 1.9.2, with md5 1a341cbc642fe5a28627294590b041fb and a total number of 941 components indexed\n"
     ]
    },
    {
     "name": "stdout",
     "output_type": "stream",
     "text": [
      "MODEL CONFIG :  modelscope/1.9.2; python/3.8.18; session_id/61c54b3edbd54e49a8d63cd67ff19afc; platform/macOS-13.3-x86_64-i386-64bit; processor/i386; env/custom; user/unknown; invoked_by/from_pretrained\n"
     ]
    },
    {
     "name": "stderr",
     "output_type": "stream",
     "text": [
      "2023-10-11 19:26:52,337 - modelscope - INFO - Model revision not specified, use revision: v1.0.2\n",
      "2023-10-11 19:26:53,344 - modelscope - INFO - initialize model from /Users/hugo/.cache/modelscope/hub/damo/speech_campplus_sv_en_voxceleb_16k\n"
     ]
    }
   ],
   "source": [
    "from modelscope.models import Model\n",
    "from modelscope.pipelines import pipeline\n",
    "\n",
    "model = Model.from_pretrained('damo/speech_campplus_sv_en_voxceleb_16k', device='cpu')\n"
   ]
  },
  {
   "cell_type": "code",
   "execution_count": 11,
   "metadata": {},
   "outputs": [],
   "source": [
    "sim = torch.nn.CosineSimilarity(dim=1, eps=1e-8)"
   ]
  },
  {
   "cell_type": "code",
   "execution_count": 12,
   "metadata": {},
   "outputs": [
    {
     "name": "stdout",
     "output_type": "stream",
     "text": [
      "[['/Users/hugo/Desktop/Projects/audio_analysis/SpeakerVerification_Benchmark/IEMOCAP_full_release/Session4/sentences/wav/Ses04M_impro02/Ses04M_impro02_M027.wav', 'Spk_7'], ['/Users/hugo/Desktop/Projects/audio_analysis/SpeakerVerification_Benchmark/IEMOCAP_full_release/Session4/sentences/wav/Ses04M_impro02/Ses04M_impro02_F013.wav', 'Spk_8'], ['/Users/hugo/Desktop/Projects/audio_analysis/SpeakerVerification_Benchmark/IEMOCAP_full_release/Session4/sentences/wav/Ses04M_impro02/Ses04M_impro02_M026.wav', 'Spk_7'], ['/Users/hugo/Desktop/Projects/audio_analysis/SpeakerVerification_Benchmark/IEMOCAP_full_release/Session4/sentences/wav/Ses04M_impro02/Ses04M_impro02_F017.wav', 'Spk_8'], ['/Users/hugo/Desktop/Projects/audio_analysis/SpeakerVerification_Benchmark/IEMOCAP_full_release/Session4/sentences/wav/Ses04M_impro02/Ses04M_impro02_M024.wav', 'Spk_7'], ['/Users/hugo/Desktop/Projects/audio_analysis/SpeakerVerification_Benchmark/IEMOCAP_full_release/Session4/sentences/wav/Ses04M_impro02/Ses04M_impro02_F005.wav', 'Spk_8'], ['/Users/hugo/Desktop/Projects/audio_analysis/SpeakerVerification_Benchmark/IEMOCAP_full_release/Session4/sentences/wav/Ses04M_impro02/Ses04M_impro02_M032.wav', 'Spk_7'], ['/Users/hugo/Desktop/Projects/audio_analysis/SpeakerVerification_Benchmark/IEMOCAP_full_release/Session4/sentences/wav/Ses04M_impro02/Ses04M_impro02_F003.wav', 'Spk_8'], ['/Users/hugo/Desktop/Projects/audio_analysis/SpeakerVerification_Benchmark/IEMOCAP_full_release/Session4/sentences/wav/Ses04M_impro02/Ses04M_impro02_M025.wav', 'Spk_7'], ['/Users/hugo/Desktop/Projects/audio_analysis/SpeakerVerification_Benchmark/IEMOCAP_full_release/Session4/sentences/wav/Ses04M_impro02/Ses04M_impro02_F006.wav', 'Spk_8'], ['/Users/hugo/Desktop/Projects/audio_analysis/SpeakerVerification_Benchmark/IEMOCAP_full_release/Session4/sentences/wav/Ses04F_impro03/Ses04F_impro03_M046.wav', 'Spk_7'], ['/Users/hugo/Desktop/Projects/audio_analysis/SpeakerVerification_Benchmark/IEMOCAP_full_release/Session4/sentences/wav/Ses04F_impro03/Ses04F_impro03_F007.wav', 'Spk_8'], ['/Users/hugo/Desktop/Projects/audio_analysis/SpeakerVerification_Benchmark/IEMOCAP_full_release/Session4/sentences/wav/Ses04F_impro03/Ses04F_impro03_M045.wav', 'Spk_7'], ['/Users/hugo/Desktop/Projects/audio_analysis/SpeakerVerification_Benchmark/IEMOCAP_full_release/Session4/sentences/wav/Ses04F_impro03/Ses04F_impro03_F012.wav', 'Spk_8'], ['/Users/hugo/Desktop/Projects/audio_analysis/SpeakerVerification_Benchmark/IEMOCAP_full_release/Session4/sentences/wav/Ses04F_impro03/Ses04F_impro03_M042.wav', 'Spk_7'], ['/Users/hugo/Desktop/Projects/audio_analysis/SpeakerVerification_Benchmark/IEMOCAP_full_release/Session4/sentences/wav/Ses04F_impro03/Ses04F_impro03_F013.wav', 'Spk_8'], ['/Users/hugo/Desktop/Projects/audio_analysis/SpeakerVerification_Benchmark/IEMOCAP_full_release/Session4/sentences/wav/Ses04F_impro03/Ses04F_impro03_M050.wav', 'Spk_7'], ['/Users/hugo/Desktop/Projects/audio_analysis/SpeakerVerification_Benchmark/IEMOCAP_full_release/Session4/sentences/wav/Ses04F_impro03/Ses04F_impro03_F048.wav', 'Spk_8'], ['/Users/hugo/Desktop/Projects/audio_analysis/SpeakerVerification_Benchmark/IEMOCAP_full_release/Session4/sentences/wav/Ses04F_impro03/Ses04F_impro03_M044.wav', 'Spk_7'], ['/Users/hugo/Desktop/Projects/audio_analysis/SpeakerVerification_Benchmark/IEMOCAP_full_release/Session4/sentences/wav/Ses04F_impro03/Ses04F_impro03_F049.wav', 'Spk_8'], ['/Users/hugo/Desktop/Projects/audio_analysis/SpeakerVerification_Benchmark/IEMOCAP_full_release/Session4/sentences/wav/Ses04M_impro05/Ses04M_impro05_M034.wav', 'Spk_7'], ['/Users/hugo/Desktop/Projects/audio_analysis/SpeakerVerification_Benchmark/IEMOCAP_full_release/Session4/sentences/wav/Ses04M_impro05/Ses04M_impro05_F015.wav', 'Spk_8'], ['/Users/hugo/Desktop/Projects/audio_analysis/SpeakerVerification_Benchmark/IEMOCAP_full_release/Session4/sentences/wav/Ses04M_impro05/Ses04M_impro05_M022.wav', 'Spk_7'], ['/Users/hugo/Desktop/Projects/audio_analysis/SpeakerVerification_Benchmark/IEMOCAP_full_release/Session4/sentences/wav/Ses04M_impro05/Ses04M_impro05_F003.wav', 'Spk_8'], ['/Users/hugo/Desktop/Projects/audio_analysis/SpeakerVerification_Benchmark/IEMOCAP_full_release/Session4/sentences/wav/Ses04M_impro05/Ses04M_impro05_M008.wav', 'Spk_7'], ['/Users/hugo/Desktop/Projects/audio_analysis/SpeakerVerification_Benchmark/IEMOCAP_full_release/Session4/sentences/wav/Ses04M_impro05/Ses04M_impro05_F029.wav', 'Spk_8'], ['/Users/hugo/Desktop/Projects/audio_analysis/SpeakerVerification_Benchmark/IEMOCAP_full_release/Session4/sentences/wav/Ses04M_impro05/Ses04M_impro05_M023.wav', 'Spk_7'], ['/Users/hugo/Desktop/Projects/audio_analysis/SpeakerVerification_Benchmark/IEMOCAP_full_release/Session4/sentences/wav/Ses04M_impro05/Ses04M_impro05_F002.wav', 'Spk_8'], ['/Users/hugo/Desktop/Projects/audio_analysis/SpeakerVerification_Benchmark/IEMOCAP_full_release/Session4/sentences/wav/Ses04M_impro05/Ses04M_impro05_M035.wav', 'Spk_7'], ['/Users/hugo/Desktop/Projects/audio_analysis/SpeakerVerification_Benchmark/IEMOCAP_full_release/Session4/sentences/wav/Ses04M_impro05/Ses04M_impro05_F014.wav', 'Spk_8'], ['/Users/hugo/Desktop/Projects/audio_analysis/SpeakerVerification_Benchmark/IEMOCAP_full_release/Session4/sentences/wav/Ses04F_script02_1/Ses04F_script02_1_M006.wav', 'Spk_7'], ['/Users/hugo/Desktop/Projects/audio_analysis/SpeakerVerification_Benchmark/IEMOCAP_full_release/Session4/sentences/wav/Ses04F_script02_1/Ses04F_script02_1_F010.wav', 'Spk_8'], ['/Users/hugo/Desktop/Projects/audio_analysis/SpeakerVerification_Benchmark/IEMOCAP_full_release/Session4/sentences/wav/Ses04F_script02_1/Ses04F_script02_1_M011.wav', 'Spk_7'], ['/Users/hugo/Desktop/Projects/audio_analysis/SpeakerVerification_Benchmark/IEMOCAP_full_release/Session4/sentences/wav/Ses04F_script02_1/Ses04F_script02_1_F020.wav', 'Spk_8'], ['/Users/hugo/Desktop/Projects/audio_analysis/SpeakerVerification_Benchmark/IEMOCAP_full_release/Session4/sentences/wav/Ses04F_script02_1/Ses04F_script02_1_M005.wav', 'Spk_7'], ['/Users/hugo/Desktop/Projects/audio_analysis/SpeakerVerification_Benchmark/IEMOCAP_full_release/Session4/sentences/wav/Ses04F_script02_1/Ses04F_script02_1_F021.wav', 'Spk_8'], ['/Users/hugo/Desktop/Projects/audio_analysis/SpeakerVerification_Benchmark/IEMOCAP_full_release/Session4/sentences/wav/Ses04F_script02_1/Ses04F_script02_1_M007.wav', 'Spk_7'], ['/Users/hugo/Desktop/Projects/audio_analysis/SpeakerVerification_Benchmark/IEMOCAP_full_release/Session4/sentences/wav/Ses04F_script02_1/Ses04F_script02_1_F004.wav', 'Spk_8'], ['/Users/hugo/Desktop/Projects/audio_analysis/SpeakerVerification_Benchmark/IEMOCAP_full_release/Session4/sentences/wav/Ses04F_script02_1/Ses04F_script02_1_M038.wav', 'Spk_7'], ['/Users/hugo/Desktop/Projects/audio_analysis/SpeakerVerification_Benchmark/IEMOCAP_full_release/Session4/sentences/wav/Ses04F_script02_1/Ses04F_script02_1_F022.wav', 'Spk_8'], ['/Users/hugo/Desktop/Projects/audio_analysis/SpeakerVerification_Benchmark/IEMOCAP_full_release/Session3/sentences/wav/Ses03M_impro07/Ses03M_impro07_M003.wav', 'Spk_5'], ['/Users/hugo/Desktop/Projects/audio_analysis/SpeakerVerification_Benchmark/IEMOCAP_full_release/Session3/sentences/wav/Ses03M_impro07/Ses03M_impro07_F011.wav', 'Spk_6'], ['/Users/hugo/Desktop/Projects/audio_analysis/SpeakerVerification_Benchmark/IEMOCAP_full_release/Session3/sentences/wav/Ses03M_impro07/Ses03M_impro07_M004.wav', 'Spk_5'], ['/Users/hugo/Desktop/Projects/audio_analysis/SpeakerVerification_Benchmark/IEMOCAP_full_release/Session3/sentences/wav/Ses03M_impro07/Ses03M_impro07_F022.wav', 'Spk_6'], ['/Users/hugo/Desktop/Projects/audio_analysis/SpeakerVerification_Benchmark/IEMOCAP_full_release/Session3/sentences/wav/Ses03M_impro07/Ses03M_impro07_M013.wav', 'Spk_5'], ['/Users/hugo/Desktop/Projects/audio_analysis/SpeakerVerification_Benchmark/IEMOCAP_full_release/Session3/sentences/wav/Ses03M_impro07/Ses03M_impro07_F020.wav', 'Spk_6'], ['/Users/hugo/Desktop/Projects/audio_analysis/SpeakerVerification_Benchmark/IEMOCAP_full_release/Session3/sentences/wav/Ses03M_impro07/Ses03M_impro07_M007.wav', 'Spk_5'], ['/Users/hugo/Desktop/Projects/audio_analysis/SpeakerVerification_Benchmark/IEMOCAP_full_release/Session3/sentences/wav/Ses03M_impro07/Ses03M_impro07_F008.wav', 'Spk_6'], ['/Users/hugo/Desktop/Projects/audio_analysis/SpeakerVerification_Benchmark/IEMOCAP_full_release/Session3/sentences/wav/Ses03M_impro07/Ses03M_impro07_M005.wav', 'Spk_5'], ['/Users/hugo/Desktop/Projects/audio_analysis/SpeakerVerification_Benchmark/IEMOCAP_full_release/Session3/sentences/wav/Ses03M_impro07/Ses03M_impro07_F019.wav', 'Spk_6'], ['/Users/hugo/Desktop/Projects/audio_analysis/SpeakerVerification_Benchmark/IEMOCAP_full_release/Session3/sentences/wav/Ses03F_impro01/Ses03F_impro01_M011.wav', 'Spk_5'], ['/Users/hugo/Desktop/Projects/audio_analysis/SpeakerVerification_Benchmark/IEMOCAP_full_release/Session3/sentences/wav/Ses03F_impro01/Ses03F_impro01_F006.wav', 'Spk_6'], ['/Users/hugo/Desktop/Projects/audio_analysis/SpeakerVerification_Benchmark/IEMOCAP_full_release/Session3/sentences/wav/Ses03F_impro01/Ses03F_impro01_M000.wav', 'Spk_5'], ['/Users/hugo/Desktop/Projects/audio_analysis/SpeakerVerification_Benchmark/IEMOCAP_full_release/Session3/sentences/wav/Ses03F_impro01/Ses03F_impro01_F009.wav', 'Spk_6'], ['/Users/hugo/Desktop/Projects/audio_analysis/SpeakerVerification_Benchmark/IEMOCAP_full_release/Session3/sentences/wav/Ses03F_impro01/Ses03F_impro01_M002.wav', 'Spk_5'], ['/Users/hugo/Desktop/Projects/audio_analysis/SpeakerVerification_Benchmark/IEMOCAP_full_release/Session3/sentences/wav/Ses03F_impro01/Ses03F_impro01_F001.wav', 'Spk_6'], ['/Users/hugo/Desktop/Projects/audio_analysis/SpeakerVerification_Benchmark/IEMOCAP_full_release/Session3/sentences/wav/Ses03F_impro01/Ses03F_impro01_M001.wav', 'Spk_5'], ['/Users/hugo/Desktop/Projects/audio_analysis/SpeakerVerification_Benchmark/IEMOCAP_full_release/Session3/sentences/wav/Ses03F_impro01/Ses03F_impro01_F008.wav', 'Spk_6'], ['/Users/hugo/Desktop/Projects/audio_analysis/SpeakerVerification_Benchmark/IEMOCAP_full_release/Session3/sentences/wav/Ses03F_impro01/Ses03F_impro01_M007.wav', 'Spk_5'], ['/Users/hugo/Desktop/Projects/audio_analysis/SpeakerVerification_Benchmark/IEMOCAP_full_release/Session3/sentences/wav/Ses03F_impro01/Ses03F_impro01_F002.wav', 'Spk_6'], ['/Users/hugo/Desktop/Projects/audio_analysis/SpeakerVerification_Benchmark/IEMOCAP_full_release/Session3/sentences/wav/Ses03M_script02_1/Ses03M_script02_1_M041.wav', 'Spk_5'], ['/Users/hugo/Desktop/Projects/audio_analysis/SpeakerVerification_Benchmark/IEMOCAP_full_release/Session3/sentences/wav/Ses03M_script02_1/Ses03M_script02_1_F016.wav', 'Spk_6'], ['/Users/hugo/Desktop/Projects/audio_analysis/SpeakerVerification_Benchmark/IEMOCAP_full_release/Session3/sentences/wav/Ses03M_script02_1/Ses03M_script02_1_M040.wav', 'Spk_5'], ['/Users/hugo/Desktop/Projects/audio_analysis/SpeakerVerification_Benchmark/IEMOCAP_full_release/Session3/sentences/wav/Ses03M_script02_1/Ses03M_script02_1_F002.wav', 'Spk_6'], ['/Users/hugo/Desktop/Projects/audio_analysis/SpeakerVerification_Benchmark/IEMOCAP_full_release/Session3/sentences/wav/Ses03M_script02_1/Ses03M_script02_1_M022.wav', 'Spk_5'], ['/Users/hugo/Desktop/Projects/audio_analysis/SpeakerVerification_Benchmark/IEMOCAP_full_release/Session3/sentences/wav/Ses03M_script02_1/Ses03M_script02_1_F010.wav', 'Spk_6'], ['/Users/hugo/Desktop/Projects/audio_analysis/SpeakerVerification_Benchmark/IEMOCAP_full_release/Session3/sentences/wav/Ses03M_script02_1/Ses03M_script02_1_M042.wav', 'Spk_5'], ['/Users/hugo/Desktop/Projects/audio_analysis/SpeakerVerification_Benchmark/IEMOCAP_full_release/Session3/sentences/wav/Ses03M_script02_1/Ses03M_script02_1_F003.wav', 'Spk_6'], ['/Users/hugo/Desktop/Projects/audio_analysis/SpeakerVerification_Benchmark/IEMOCAP_full_release/Session3/sentences/wav/Ses03M_script02_1/Ses03M_script02_1_M023.wav', 'Spk_5'], ['/Users/hugo/Desktop/Projects/audio_analysis/SpeakerVerification_Benchmark/IEMOCAP_full_release/Session3/sentences/wav/Ses03M_script02_1/Ses03M_script02_1_F001.wav', 'Spk_6'], ['/Users/hugo/Desktop/Projects/audio_analysis/SpeakerVerification_Benchmark/IEMOCAP_full_release/Session3/sentences/wav/Ses03F_script03_1/Ses03F_script03_1_M004.wav', 'Spk_5'], ['/Users/hugo/Desktop/Projects/audio_analysis/SpeakerVerification_Benchmark/IEMOCAP_full_release/Session3/sentences/wav/Ses03F_script03_1/Ses03F_script03_1_F025.wav', 'Spk_6'], ['/Users/hugo/Desktop/Projects/audio_analysis/SpeakerVerification_Benchmark/IEMOCAP_full_release/Session3/sentences/wav/Ses03F_script03_1/Ses03F_script03_1_M005.wav', 'Spk_5'], ['/Users/hugo/Desktop/Projects/audio_analysis/SpeakerVerification_Benchmark/IEMOCAP_full_release/Session3/sentences/wav/Ses03F_script03_1/Ses03F_script03_1_F024.wav', 'Spk_6'], ['/Users/hugo/Desktop/Projects/audio_analysis/SpeakerVerification_Benchmark/IEMOCAP_full_release/Session3/sentences/wav/Ses03F_script03_1/Ses03F_script03_1_M006.wav', 'Spk_5'], ['/Users/hugo/Desktop/Projects/audio_analysis/SpeakerVerification_Benchmark/IEMOCAP_full_release/Session3/sentences/wav/Ses03F_script03_1/Ses03F_script03_1_F022.wav', 'Spk_6'], ['/Users/hugo/Desktop/Projects/audio_analysis/SpeakerVerification_Benchmark/IEMOCAP_full_release/Session3/sentences/wav/Ses03F_script03_1/Ses03F_script03_1_M016.wav', 'Spk_5'], ['/Users/hugo/Desktop/Projects/audio_analysis/SpeakerVerification_Benchmark/IEMOCAP_full_release/Session3/sentences/wav/Ses03F_script03_1/Ses03F_script03_1_F008.wav', 'Spk_6'], ['/Users/hugo/Desktop/Projects/audio_analysis/SpeakerVerification_Benchmark/IEMOCAP_full_release/Session3/sentences/wav/Ses03F_script03_1/Ses03F_script03_1_M011.wav', 'Spk_5'], ['/Users/hugo/Desktop/Projects/audio_analysis/SpeakerVerification_Benchmark/IEMOCAP_full_release/Session3/sentences/wav/Ses03F_script03_1/Ses03F_script03_1_F018.wav', 'Spk_6'], ['/Users/hugo/Desktop/Projects/audio_analysis/SpeakerVerification_Benchmark/IEMOCAP_full_release/Session2/sentences/wav/Ses02M_impro02/Ses02M_impro02_M009.wav', 'Spk_3'], ['/Users/hugo/Desktop/Projects/audio_analysis/SpeakerVerification_Benchmark/IEMOCAP_full_release/Session2/sentences/wav/Ses02M_impro02/Ses02M_impro02_F014.wav', 'Spk_4'], ['/Users/hugo/Desktop/Projects/audio_analysis/SpeakerVerification_Benchmark/IEMOCAP_full_release/Session2/sentences/wav/Ses02M_impro02/Ses02M_impro02_M016.wav', 'Spk_3'], ['/Users/hugo/Desktop/Projects/audio_analysis/SpeakerVerification_Benchmark/IEMOCAP_full_release/Session2/sentences/wav/Ses02M_impro02/Ses02M_impro02_F011.wav', 'Spk_4'], ['/Users/hugo/Desktop/Projects/audio_analysis/SpeakerVerification_Benchmark/IEMOCAP_full_release/Session2/sentences/wav/Ses02M_impro02/Ses02M_impro02_M001.wav', 'Spk_3'], ['/Users/hugo/Desktop/Projects/audio_analysis/SpeakerVerification_Benchmark/IEMOCAP_full_release/Session2/sentences/wav/Ses02M_impro02/Ses02M_impro02_F006.wav', 'Spk_4'], ['/Users/hugo/Desktop/Projects/audio_analysis/SpeakerVerification_Benchmark/IEMOCAP_full_release/Session2/sentences/wav/Ses02M_impro02/Ses02M_impro02_M015.wav', 'Spk_3'], ['/Users/hugo/Desktop/Projects/audio_analysis/SpeakerVerification_Benchmark/IEMOCAP_full_release/Session2/sentences/wav/Ses02M_impro02/Ses02M_impro02_F012.wav', 'Spk_4'], ['/Users/hugo/Desktop/Projects/audio_analysis/SpeakerVerification_Benchmark/IEMOCAP_full_release/Session2/sentences/wav/Ses02M_impro02/Ses02M_impro02_M017.wav', 'Spk_3'], ['/Users/hugo/Desktop/Projects/audio_analysis/SpeakerVerification_Benchmark/IEMOCAP_full_release/Session2/sentences/wav/Ses02M_impro02/Ses02M_impro02_F007.wav', 'Spk_4'], ['/Users/hugo/Desktop/Projects/audio_analysis/SpeakerVerification_Benchmark/IEMOCAP_full_release/Session2/sentences/wav/Ses02F_impro04/Ses02F_impro04_M010.wav', 'Spk_3'], ['/Users/hugo/Desktop/Projects/audio_analysis/SpeakerVerification_Benchmark/IEMOCAP_full_release/Session2/sentences/wav/Ses02F_impro04/Ses02F_impro04_F003.wav', 'Spk_4'], ['/Users/hugo/Desktop/Projects/audio_analysis/SpeakerVerification_Benchmark/IEMOCAP_full_release/Session2/sentences/wav/Ses02F_impro04/Ses02F_impro04_M008.wav', 'Spk_3'], ['/Users/hugo/Desktop/Projects/audio_analysis/SpeakerVerification_Benchmark/IEMOCAP_full_release/Session2/sentences/wav/Ses02F_impro04/Ses02F_impro04_F006.wav', 'Spk_4'], ['/Users/hugo/Desktop/Projects/audio_analysis/SpeakerVerification_Benchmark/IEMOCAP_full_release/Session2/sentences/wav/Ses02F_impro04/Ses02F_impro04_M009.wav', 'Spk_3'], ['/Users/hugo/Desktop/Projects/audio_analysis/SpeakerVerification_Benchmark/IEMOCAP_full_release/Session2/sentences/wav/Ses02F_impro04/Ses02F_impro04_F004.wav', 'Spk_4'], ['/Users/hugo/Desktop/Projects/audio_analysis/SpeakerVerification_Benchmark/IEMOCAP_full_release/Session2/sentences/wav/Ses02F_impro04/Ses02F_impro04_M006.wav', 'Spk_3'], ['/Users/hugo/Desktop/Projects/audio_analysis/SpeakerVerification_Benchmark/IEMOCAP_full_release/Session2/sentences/wav/Ses02F_impro04/Ses02F_impro04_F017.wav', 'Spk_4'], ['/Users/hugo/Desktop/Projects/audio_analysis/SpeakerVerification_Benchmark/IEMOCAP_full_release/Session2/sentences/wav/Ses02F_impro04/Ses02F_impro04_M019.wav', 'Spk_3'], ['/Users/hugo/Desktop/Projects/audio_analysis/SpeakerVerification_Benchmark/IEMOCAP_full_release/Session2/sentences/wav/Ses02F_impro04/Ses02F_impro04_F005.wav', 'Spk_4'], ['/Users/hugo/Desktop/Projects/audio_analysis/SpeakerVerification_Benchmark/IEMOCAP_full_release/Session2/sentences/wav/Ses02M_script03_2/Ses02M_script03_2_M037.wav', 'Spk_3'], ['/Users/hugo/Desktop/Projects/audio_analysis/SpeakerVerification_Benchmark/IEMOCAP_full_release/Session2/sentences/wav/Ses02M_script03_2/Ses02M_script03_2_F016.wav', 'Spk_4'], ['/Users/hugo/Desktop/Projects/audio_analysis/SpeakerVerification_Benchmark/IEMOCAP_full_release/Session2/sentences/wav/Ses02M_script03_2/Ses02M_script03_2_M035.wav', 'Spk_3'], ['/Users/hugo/Desktop/Projects/audio_analysis/SpeakerVerification_Benchmark/IEMOCAP_full_release/Session2/sentences/wav/Ses02M_script03_2/Ses02M_script03_2_F014.wav', 'Spk_4'], ['/Users/hugo/Desktop/Projects/audio_analysis/SpeakerVerification_Benchmark/IEMOCAP_full_release/Session2/sentences/wav/Ses02M_script03_2/Ses02M_script03_2_M009.wav', 'Spk_3'], ['/Users/hugo/Desktop/Projects/audio_analysis/SpeakerVerification_Benchmark/IEMOCAP_full_release/Session2/sentences/wav/Ses02M_script03_2/Ses02M_script03_2_F028.wav', 'Spk_4'], ['/Users/hugo/Desktop/Projects/audio_analysis/SpeakerVerification_Benchmark/IEMOCAP_full_release/Session2/sentences/wav/Ses02M_script03_2/Ses02M_script03_2_M036.wav', 'Spk_3'], ['/Users/hugo/Desktop/Projects/audio_analysis/SpeakerVerification_Benchmark/IEMOCAP_full_release/Session2/sentences/wav/Ses02M_script03_2/Ses02M_script03_2_F017.wav', 'Spk_4'], ['/Users/hugo/Desktop/Projects/audio_analysis/SpeakerVerification_Benchmark/IEMOCAP_full_release/Session2/sentences/wav/Ses02M_script03_2/Ses02M_script03_2_M022.wav', 'Spk_3'], ['/Users/hugo/Desktop/Projects/audio_analysis/SpeakerVerification_Benchmark/IEMOCAP_full_release/Session2/sentences/wav/Ses02M_script03_2/Ses02M_script03_2_F003.wav', 'Spk_4'], ['/Users/hugo/Desktop/Projects/audio_analysis/SpeakerVerification_Benchmark/IEMOCAP_full_release/Session2/sentences/wav/Ses02F_script01_2/Ses02F_script01_2_M018.wav', 'Spk_3'], ['/Users/hugo/Desktop/Projects/audio_analysis/SpeakerVerification_Benchmark/IEMOCAP_full_release/Session2/sentences/wav/Ses02F_script01_2/Ses02F_script01_2_F016.wav', 'Spk_4'], ['/Users/hugo/Desktop/Projects/audio_analysis/SpeakerVerification_Benchmark/IEMOCAP_full_release/Session2/sentences/wav/Ses02F_script01_2/Ses02F_script01_2_M009.wav', 'Spk_3'], ['/Users/hugo/Desktop/Projects/audio_analysis/SpeakerVerification_Benchmark/IEMOCAP_full_release/Session2/sentences/wav/Ses02F_script01_2/Ses02F_script01_2_F003.wav', 'Spk_4'], ['/Users/hugo/Desktop/Projects/audio_analysis/SpeakerVerification_Benchmark/IEMOCAP_full_release/Session2/sentences/wav/Ses02F_script01_2/Ses02F_script01_2_M014.wav', 'Spk_3'], ['/Users/hugo/Desktop/Projects/audio_analysis/SpeakerVerification_Benchmark/IEMOCAP_full_release/Session2/sentences/wav/Ses02F_script01_2/Ses02F_script01_2_F015.wav', 'Spk_4'], ['/Users/hugo/Desktop/Projects/audio_analysis/SpeakerVerification_Benchmark/IEMOCAP_full_release/Session2/sentences/wav/Ses02F_script01_2/Ses02F_script01_2_M000.wav', 'Spk_3'], ['/Users/hugo/Desktop/Projects/audio_analysis/SpeakerVerification_Benchmark/IEMOCAP_full_release/Session2/sentences/wav/Ses02F_script01_2/Ses02F_script01_2_F011.wav', 'Spk_4'], ['/Users/hugo/Desktop/Projects/audio_analysis/SpeakerVerification_Benchmark/IEMOCAP_full_release/Session2/sentences/wav/Ses02F_script01_2/Ses02F_script01_2_M008.wav', 'Spk_3'], ['/Users/hugo/Desktop/Projects/audio_analysis/SpeakerVerification_Benchmark/IEMOCAP_full_release/Session2/sentences/wav/Ses02F_script01_2/Ses02F_script01_2_F017.wav', 'Spk_4'], ['/Users/hugo/Desktop/Projects/audio_analysis/SpeakerVerification_Benchmark/IEMOCAP_full_release/Session5/sentences/wav/Ses05M_script01_1b/Ses05M_script01_1b_M038.wav', 'Spk_9'], ['/Users/hugo/Desktop/Projects/audio_analysis/SpeakerVerification_Benchmark/IEMOCAP_full_release/Session5/sentences/wav/Ses05M_script01_1b/Ses05M_script01_1b_F019.wav', 'Spk_10'], ['/Users/hugo/Desktop/Projects/audio_analysis/SpeakerVerification_Benchmark/IEMOCAP_full_release/Session5/sentences/wav/Ses05M_script01_1b/Ses05M_script01_1b_M010.wav', 'Spk_9'], ['/Users/hugo/Desktop/Projects/audio_analysis/SpeakerVerification_Benchmark/IEMOCAP_full_release/Session5/sentences/wav/Ses05M_script01_1b/Ses05M_script01_1b_F031.wav', 'Spk_10'], ['/Users/hugo/Desktop/Projects/audio_analysis/SpeakerVerification_Benchmark/IEMOCAP_full_release/Session5/sentences/wav/Ses05M_script01_1b/Ses05M_script01_1b_M004.wav', 'Spk_9'], ['/Users/hugo/Desktop/Projects/audio_analysis/SpeakerVerification_Benchmark/IEMOCAP_full_release/Session5/sentences/wav/Ses05M_script01_1b/Ses05M_script01_1b_F025.wav', 'Spk_10'], ['/Users/hugo/Desktop/Projects/audio_analysis/SpeakerVerification_Benchmark/IEMOCAP_full_release/Session5/sentences/wav/Ses05M_script01_1b/Ses05M_script01_1b_M012.wav', 'Spk_9'], ['/Users/hugo/Desktop/Projects/audio_analysis/SpeakerVerification_Benchmark/IEMOCAP_full_release/Session5/sentences/wav/Ses05M_script01_1b/Ses05M_script01_1b_F033.wav', 'Spk_10'], ['/Users/hugo/Desktop/Projects/audio_analysis/SpeakerVerification_Benchmark/IEMOCAP_full_release/Session5/sentences/wav/Ses05M_script01_1b/Ses05M_script01_1b_M005.wav', 'Spk_9'], ['/Users/hugo/Desktop/Projects/audio_analysis/SpeakerVerification_Benchmark/IEMOCAP_full_release/Session5/sentences/wav/Ses05M_script01_1b/Ses05M_script01_1b_F024.wav', 'Spk_10'], ['/Users/hugo/Desktop/Projects/audio_analysis/SpeakerVerification_Benchmark/IEMOCAP_full_release/Session5/sentences/wav/Ses05F_script02_2/Ses05F_script02_2_M008.wav', 'Spk_9'], ['/Users/hugo/Desktop/Projects/audio_analysis/SpeakerVerification_Benchmark/IEMOCAP_full_release/Session5/sentences/wav/Ses05F_script02_2/Ses05F_script02_2_F015.wav', 'Spk_10'], ['/Users/hugo/Desktop/Projects/audio_analysis/SpeakerVerification_Benchmark/IEMOCAP_full_release/Session5/sentences/wav/Ses05F_script02_2/Ses05F_script02_2_M020.wav', 'Spk_9'], ['/Users/hugo/Desktop/Projects/audio_analysis/SpeakerVerification_Benchmark/IEMOCAP_full_release/Session5/sentences/wav/Ses05F_script02_2/Ses05F_script02_2_F014.wav', 'Spk_10'], ['/Users/hugo/Desktop/Projects/audio_analysis/SpeakerVerification_Benchmark/IEMOCAP_full_release/Session5/sentences/wav/Ses05F_script02_2/Ses05F_script02_2_M036.wav', 'Spk_9'], ['/Users/hugo/Desktop/Projects/audio_analysis/SpeakerVerification_Benchmark/IEMOCAP_full_release/Session5/sentences/wav/Ses05F_script02_2/Ses05F_script02_2_F001.wav', 'Spk_10'], ['/Users/hugo/Desktop/Projects/audio_analysis/SpeakerVerification_Benchmark/IEMOCAP_full_release/Session5/sentences/wav/Ses05F_script02_2/Ses05F_script02_2_M037.wav', 'Spk_9'], ['/Users/hugo/Desktop/Projects/audio_analysis/SpeakerVerification_Benchmark/IEMOCAP_full_release/Session5/sentences/wav/Ses05F_script02_2/Ses05F_script02_2_F003.wav', 'Spk_10'], ['/Users/hugo/Desktop/Projects/audio_analysis/SpeakerVerification_Benchmark/IEMOCAP_full_release/Session5/sentences/wav/Ses05F_script02_2/Ses05F_script02_2_M041.wav', 'Spk_9'], ['/Users/hugo/Desktop/Projects/audio_analysis/SpeakerVerification_Benchmark/IEMOCAP_full_release/Session5/sentences/wav/Ses05F_script02_2/Ses05F_script02_2_F002.wav', 'Spk_10'], ['/Users/hugo/Desktop/Projects/audio_analysis/SpeakerVerification_Benchmark/IEMOCAP_full_release/Session5/sentences/wav/Ses05M_impro03/Ses05M_impro03_M022.wav', 'Spk_9'], ['/Users/hugo/Desktop/Projects/audio_analysis/SpeakerVerification_Benchmark/IEMOCAP_full_release/Session5/sentences/wav/Ses05M_impro03/Ses05M_impro03_F017.wav', 'Spk_10'], ['/Users/hugo/Desktop/Projects/audio_analysis/SpeakerVerification_Benchmark/IEMOCAP_full_release/Session5/sentences/wav/Ses05M_impro03/Ses05M_impro03_M031.wav', 'Spk_9'], ['/Users/hugo/Desktop/Projects/audio_analysis/SpeakerVerification_Benchmark/IEMOCAP_full_release/Session5/sentences/wav/Ses05M_impro03/Ses05M_impro03_F001.wav', 'Spk_10'], ['/Users/hugo/Desktop/Projects/audio_analysis/SpeakerVerification_Benchmark/IEMOCAP_full_release/Session5/sentences/wav/Ses05M_impro03/Ses05M_impro03_M008.wav', 'Spk_9'], ['/Users/hugo/Desktop/Projects/audio_analysis/SpeakerVerification_Benchmark/IEMOCAP_full_release/Session5/sentences/wav/Ses05M_impro03/Ses05M_impro03_F000.wav', 'Spk_10'], ['/Users/hugo/Desktop/Projects/audio_analysis/SpeakerVerification_Benchmark/IEMOCAP_full_release/Session5/sentences/wav/Ses05M_impro03/Ses05M_impro03_M023.wav', 'Spk_9'], ['/Users/hugo/Desktop/Projects/audio_analysis/SpeakerVerification_Benchmark/IEMOCAP_full_release/Session5/sentences/wav/Ses05M_impro03/Ses05M_impro03_F003.wav', 'Spk_10'], ['/Users/hugo/Desktop/Projects/audio_analysis/SpeakerVerification_Benchmark/IEMOCAP_full_release/Session5/sentences/wav/Ses05M_impro03/Ses05M_impro03_M020.wav', 'Spk_9'], ['/Users/hugo/Desktop/Projects/audio_analysis/SpeakerVerification_Benchmark/IEMOCAP_full_release/Session5/sentences/wav/Ses05M_impro03/Ses05M_impro03_F014.wav', 'Spk_10'], ['/Users/hugo/Desktop/Projects/audio_analysis/SpeakerVerification_Benchmark/IEMOCAP_full_release/Session5/sentences/wav/Ses05F_script01_3/Ses05F_script01_3_M011.wav', 'Spk_9'], ['/Users/hugo/Desktop/Projects/audio_analysis/SpeakerVerification_Benchmark/IEMOCAP_full_release/Session5/sentences/wav/Ses05F_script01_3/Ses05F_script01_3_F018.wav', 'Spk_10'], ['/Users/hugo/Desktop/Projects/audio_analysis/SpeakerVerification_Benchmark/IEMOCAP_full_release/Session5/sentences/wav/Ses05F_script01_3/Ses05F_script01_3_M006.wav', 'Spk_9'], ['/Users/hugo/Desktop/Projects/audio_analysis/SpeakerVerification_Benchmark/IEMOCAP_full_release/Session5/sentences/wav/Ses05F_script01_3/Ses05F_script01_3_F009.wav', 'Spk_10'], ['/Users/hugo/Desktop/Projects/audio_analysis/SpeakerVerification_Benchmark/IEMOCAP_full_release/Session5/sentences/wav/Ses05F_script01_3/Ses05F_script01_3_M007.wav', 'Spk_9'], ['/Users/hugo/Desktop/Projects/audio_analysis/SpeakerVerification_Benchmark/IEMOCAP_full_release/Session5/sentences/wav/Ses05F_script01_3/Ses05F_script01_3_F021.wav', 'Spk_10'], ['/Users/hugo/Desktop/Projects/audio_analysis/SpeakerVerification_Benchmark/IEMOCAP_full_release/Session5/sentences/wav/Ses05F_script01_3/Ses05F_script01_3_M012.wav', 'Spk_9'], ['/Users/hugo/Desktop/Projects/audio_analysis/SpeakerVerification_Benchmark/IEMOCAP_full_release/Session5/sentences/wav/Ses05F_script01_3/Ses05F_script01_3_F023.wav', 'Spk_10'], ['/Users/hugo/Desktop/Projects/audio_analysis/SpeakerVerification_Benchmark/IEMOCAP_full_release/Session5/sentences/wav/Ses05F_script01_3/Ses05F_script01_3_M004.wav', 'Spk_9'], ['/Users/hugo/Desktop/Projects/audio_analysis/SpeakerVerification_Benchmark/IEMOCAP_full_release/Session5/sentences/wav/Ses05F_script01_3/Ses05F_script01_3_F022.wav', 'Spk_10'], ['/Users/hugo/Desktop/Projects/audio_analysis/SpeakerVerification_Benchmark/IEMOCAP_full_release/Session1/sentences/wav/Ses01M_impro03/Ses01M_impro03_M023.wav', 'Spk_1'], ['/Users/hugo/Desktop/Projects/audio_analysis/SpeakerVerification_Benchmark/IEMOCAP_full_release/Session1/sentences/wav/Ses01M_impro03/Ses01M_impro03_F014.wav', 'Spk_2'], ['/Users/hugo/Desktop/Projects/audio_analysis/SpeakerVerification_Benchmark/IEMOCAP_full_release/Session1/sentences/wav/Ses01M_impro03/Ses01M_impro03_M025.wav', 'Spk_1'], ['/Users/hugo/Desktop/Projects/audio_analysis/SpeakerVerification_Benchmark/IEMOCAP_full_release/Session1/sentences/wav/Ses01M_impro03/Ses01M_impro03_F007.wav', 'Spk_2'], ['/Users/hugo/Desktop/Projects/audio_analysis/SpeakerVerification_Benchmark/IEMOCAP_full_release/Session1/sentences/wav/Ses01M_impro03/Ses01M_impro03_M022.wav', 'Spk_1'], ['/Users/hugo/Desktop/Projects/audio_analysis/SpeakerVerification_Benchmark/IEMOCAP_full_release/Session1/sentences/wav/Ses01M_impro03/Ses01M_impro03_F000.wav', 'Spk_2'], ['/Users/hugo/Desktop/Projects/audio_analysis/SpeakerVerification_Benchmark/IEMOCAP_full_release/Session1/sentences/wav/Ses01M_impro03/Ses01M_impro03_M020.wav', 'Spk_1'], ['/Users/hugo/Desktop/Projects/audio_analysis/SpeakerVerification_Benchmark/IEMOCAP_full_release/Session1/sentences/wav/Ses01M_impro03/Ses01M_impro03_F004.wav', 'Spk_2'], ['/Users/hugo/Desktop/Projects/audio_analysis/SpeakerVerification_Benchmark/IEMOCAP_full_release/Session1/sentences/wav/Ses01M_impro03/Ses01M_impro03_M019.wav', 'Spk_1'], ['/Users/hugo/Desktop/Projects/audio_analysis/SpeakerVerification_Benchmark/IEMOCAP_full_release/Session1/sentences/wav/Ses01M_impro03/Ses01M_impro03_F013.wav', 'Spk_2'], ['/Users/hugo/Desktop/Projects/audio_analysis/SpeakerVerification_Benchmark/IEMOCAP_full_release/Session1/sentences/wav/Ses01F_impro03/Ses01F_impro03_M009.wav', 'Spk_1'], ['/Users/hugo/Desktop/Projects/audio_analysis/SpeakerVerification_Benchmark/IEMOCAP_full_release/Session1/sentences/wav/Ses01F_impro03/Ses01F_impro03_F012.wav', 'Spk_2'], ['/Users/hugo/Desktop/Projects/audio_analysis/SpeakerVerification_Benchmark/IEMOCAP_full_release/Session1/sentences/wav/Ses01F_impro03/Ses01F_impro03_M018.wav', 'Spk_1'], ['/Users/hugo/Desktop/Projects/audio_analysis/SpeakerVerification_Benchmark/IEMOCAP_full_release/Session1/sentences/wav/Ses01F_impro03/Ses01F_impro03_F005.wav', 'Spk_2'], ['/Users/hugo/Desktop/Projects/audio_analysis/SpeakerVerification_Benchmark/IEMOCAP_full_release/Session1/sentences/wav/Ses01F_impro03/Ses01F_impro03_M019.wav', 'Spk_1'], ['/Users/hugo/Desktop/Projects/audio_analysis/SpeakerVerification_Benchmark/IEMOCAP_full_release/Session1/sentences/wav/Ses01F_impro03/Ses01F_impro03_F004.wav', 'Spk_2'], ['/Users/hugo/Desktop/Projects/audio_analysis/SpeakerVerification_Benchmark/IEMOCAP_full_release/Session1/sentences/wav/Ses01F_impro03/Ses01F_impro03_M020.wav', 'Spk_1'], ['/Users/hugo/Desktop/Projects/audio_analysis/SpeakerVerification_Benchmark/IEMOCAP_full_release/Session1/sentences/wav/Ses01F_impro03/Ses01F_impro03_F007.wav', 'Spk_2'], ['/Users/hugo/Desktop/Projects/audio_analysis/SpeakerVerification_Benchmark/IEMOCAP_full_release/Session1/sentences/wav/Ses01F_impro03/Ses01F_impro03_M008.wav', 'Spk_1'], ['/Users/hugo/Desktop/Projects/audio_analysis/SpeakerVerification_Benchmark/IEMOCAP_full_release/Session1/sentences/wav/Ses01F_impro03/Ses01F_impro03_F003.wav', 'Spk_2'], ['/Users/hugo/Desktop/Projects/audio_analysis/SpeakerVerification_Benchmark/IEMOCAP_full_release/Session1/sentences/wav/Ses01M_script03_1/Ses01M_script03_1_M023.wav', 'Spk_1'], ['/Users/hugo/Desktop/Projects/audio_analysis/SpeakerVerification_Benchmark/IEMOCAP_full_release/Session1/sentences/wav/Ses01M_script03_1/Ses01M_script03_1_F014.wav', 'Spk_2'], ['/Users/hugo/Desktop/Projects/audio_analysis/SpeakerVerification_Benchmark/IEMOCAP_full_release/Session1/sentences/wav/Ses01M_script03_1/Ses01M_script03_1_M040.wav', 'Spk_1'], ['/Users/hugo/Desktop/Projects/audio_analysis/SpeakerVerification_Benchmark/IEMOCAP_full_release/Session1/sentences/wav/Ses01M_script03_1/Ses01M_script03_1_F003.wav', 'Spk_2'], ['/Users/hugo/Desktop/Projects/audio_analysis/SpeakerVerification_Benchmark/IEMOCAP_full_release/Session1/sentences/wav/Ses01M_script03_1/Ses01M_script03_1_M021.wav', 'Spk_1'], ['/Users/hugo/Desktop/Projects/audio_analysis/SpeakerVerification_Benchmark/IEMOCAP_full_release/Session1/sentences/wav/Ses01M_script03_1/Ses01M_script03_1_F029.wav', 'Spk_2'], ['/Users/hugo/Desktop/Projects/audio_analysis/SpeakerVerification_Benchmark/IEMOCAP_full_release/Session1/sentences/wav/Ses01M_script03_1/Ses01M_script03_1_M009.wav', 'Spk_1'], ['/Users/hugo/Desktop/Projects/audio_analysis/SpeakerVerification_Benchmark/IEMOCAP_full_release/Session1/sentences/wav/Ses01M_script03_1/Ses01M_script03_1_F001.wav', 'Spk_2'], ['/Users/hugo/Desktop/Projects/audio_analysis/SpeakerVerification_Benchmark/IEMOCAP_full_release/Session1/sentences/wav/Ses01M_script03_1/Ses01M_script03_1_M041.wav', 'Spk_1'], ['/Users/hugo/Desktop/Projects/audio_analysis/SpeakerVerification_Benchmark/IEMOCAP_full_release/Session1/sentences/wav/Ses01M_script03_1/Ses01M_script03_1_F017.wav', 'Spk_2'], ['/Users/hugo/Desktop/Projects/audio_analysis/SpeakerVerification_Benchmark/IEMOCAP_full_release/Session1/sentences/wav/Ses01F_script01_3/Ses01F_script01_3_M013.wav', 'Spk_1'], ['/Users/hugo/Desktop/Projects/audio_analysis/SpeakerVerification_Benchmark/IEMOCAP_full_release/Session1/sentences/wav/Ses01F_script01_3/Ses01F_script01_3_F032.wav', 'Spk_2'], ['/Users/hugo/Desktop/Projects/audio_analysis/SpeakerVerification_Benchmark/IEMOCAP_full_release/Session1/sentences/wav/Ses01F_script01_3/Ses01F_script01_3_M007.wav', 'Spk_1'], ['/Users/hugo/Desktop/Projects/audio_analysis/SpeakerVerification_Benchmark/IEMOCAP_full_release/Session1/sentences/wav/Ses01F_script01_3/Ses01F_script01_3_F026.wav', 'Spk_2'], ['/Users/hugo/Desktop/Projects/audio_analysis/SpeakerVerification_Benchmark/IEMOCAP_full_release/Session1/sentences/wav/Ses01F_script01_3/Ses01F_script01_3_M010.wav', 'Spk_1'], ['/Users/hugo/Desktop/Projects/audio_analysis/SpeakerVerification_Benchmark/IEMOCAP_full_release/Session1/sentences/wav/Ses01F_script01_3/Ses01F_script01_3_F031.wav', 'Spk_2'], ['/Users/hugo/Desktop/Projects/audio_analysis/SpeakerVerification_Benchmark/IEMOCAP_full_release/Session1/sentences/wav/Ses01F_script01_3/Ses01F_script01_3_M029.wav', 'Spk_1'], ['/Users/hugo/Desktop/Projects/audio_analysis/SpeakerVerification_Benchmark/IEMOCAP_full_release/Session1/sentences/wav/Ses01F_script01_3/Ses01F_script01_3_F024.wav', 'Spk_2'], ['/Users/hugo/Desktop/Projects/audio_analysis/SpeakerVerification_Benchmark/IEMOCAP_full_release/Session1/sentences/wav/Ses01F_script01_3/Ses01F_script01_3_M011.wav', 'Spk_1'], ['/Users/hugo/Desktop/Projects/audio_analysis/SpeakerVerification_Benchmark/IEMOCAP_full_release/Session1/sentences/wav/Ses01F_script01_3/Ses01F_script01_3_F018.wav', 'Spk_2']]\n"
     ]
    }
   ],
   "source": [
    "print(data)"
   ]
  },
  {
   "cell_type": "code",
   "execution_count": 14,
   "metadata": {},
   "outputs": [
    {
     "name": "stderr",
     "output_type": "stream",
     "text": [
      "100%|██████████| 40000/40000 [9:16:46<00:00,  1.20it/s]   \n"
     ]
    }
   ],
   "source": [
    "\n",
    "compar_tab = pd.DataFrame(columns = ['spk_1', 'spk_2', 'duration_1', 'duration_2', 'score_classic', 'score_CAM++', 'TDN_score','path_1', 'path_2'])\n",
    "already_done = []\n",
    "with tqdm(total=len(data)*len(data)) as pbar:\n",
    "    for sample_1 in data :\n",
    "        spk_1 = sample_1[1]\n",
    "        ref_embed, _ = embed_inference(sample_1[0])\n",
    "\n",
    "        audio_1, _ = torchaudio.load(sample_1[0])\n",
    "        for sample_2 in data :\n",
    "\n",
    "            if {sample_1[0],sample_2[0]} not in already_done :\n",
    "                #print('test')\n",
    "                spk_2 = sample_2[1]\n",
    "\n",
    "                \n",
    "                embed, _ = embed_inference(sample_2[0])\n",
    "                audio_2, _ = torchaudio.load(sample_2[0])\n",
    "                loss_val = sim(ref_embed, embed)\n",
    "\n",
    "                #print(audio_1.shape, audio_1)\n",
    "                embeddings = model(audio_1)\n",
    "                embeddings2 = model(audio_2)\n",
    "                cam_score_model = sim(embeddings, embeddings2)\n",
    "                \n",
    "\n",
    "\n",
    "\n",
    "                TDN_score = verification.verify_files(sample_1[0], sample_2[0]) # Different Speakers\n",
    "                compar_tab.loc[len(compar_tab)] = [spk_1, spk_2, len(audio_1)/16000, len(audio_2)/16000, loss_val.item(),cam_score_model, TDN_score, sample_1[0], sample_2[0]]\n",
    "\n",
    "                already_done.append({sample_1[0],sample_2[0]})\n",
    "                #print(label, val)\n",
    "            pbar.update(1)\n",
    "       \n",
    "\n",
    "           \n",
    "compar_tab.to_csv('compar_tab_2.csv', index=False)"
   ]
  },
  {
   "cell_type": "code",
   "execution_count": 15,
   "metadata": {},
   "outputs": [],
   "source": [
    "import numpy as np\n",
    "from sklearn.metrics import roc_curve, auc\n",
    "\n",
    "def calculate_eer_and_fpr_fnr(scores, labels):\n",
    "    fpr, tpr, thresholds = roc_curve(labels, scores)\n",
    "    fnr = 1 - tpr\n",
    "\n",
    "    eer_threshold = thresholds[np.nanargmin(np.abs(fnr - fpr))]\n",
    "    eer = fnr[np.nanargmin(np.abs(fnr - fpr))]\n",
    "\n",
    "    fpp = np.sum((scores >= eer_threshold) & (labels == 0))\n",
    "    fnp = np.sum((scores < eer_threshold) & (labels == 1))\n",
    "    total_negatives = np.sum(labels == 0)\n",
    "    total_positives = np.sum(labels == 1)\n",
    "\n",
    "    print(labels)\n",
    "    print(scores)\n",
    "    return eer, fpp, fnp, total_positives, total_negatives\n",
    "\n",
    "# Replace 'verification_scores' and 'verification_labels' with your actual data\n",
    "\n",
    "\n",
    "# print(f\"Equal Error Rate (EER): {eer * 100:.2f}%\")\n",
    "# print(f\"False Positive Predictions (FPP): {fpp}\")\n",
    "# print(f\"False Negative Predictions (FNP): {fnp}\")\n",
    "# print(f\"Total Positives: {total_positives}\")\n",
    "# print(f\"Total Negatives: {total_negatives}\")\n"
   ]
  },
  {
   "cell_type": "code",
   "execution_count": 34,
   "metadata": {},
   "outputs": [
    {
     "name": "stdout",
     "output_type": "stream",
     "text": [
      "******************************************************************\n",
      "********************** CHOSEN TRESHOLD :  0.2  **********************\n"
     ]
    },
    {
     "ename": "IndexError",
     "evalue": "list index out of range",
     "output_type": "error",
     "traceback": [
      "\u001b[0;31m---------------------------------------------------------------------------\u001b[0m",
      "\u001b[0;31mIndexError\u001b[0m                                Traceback (most recent call last)",
      "\u001b[1;32m/Users/hugo/Desktop/Projects/audio_analysis/SpeakerVerification_Benchmark/speaker_recognition.ipynb Cell 13\u001b[0m line \u001b[0;36m2\n\u001b[1;32m     <a href='vscode-notebook-cell:/Users/hugo/Desktop/Projects/audio_analysis/SpeakerVerification_Benchmark/speaker_recognition.ipynb#X30sZmlsZQ%3D%3D?line=19'>20</a>\u001b[0m \u001b[39mfor\u001b[39;00m row, line \u001b[39min\u001b[39;00m df\u001b[39m.\u001b[39miterrows():\n\u001b[1;32m     <a href='vscode-notebook-cell:/Users/hugo/Desktop/Projects/audio_analysis/SpeakerVerification_Benchmark/speaker_recognition.ipynb#X30sZmlsZQ%3D%3D?line=20'>21</a>\u001b[0m     score_classic \u001b[39m=\u001b[39m line[\u001b[39m'\u001b[39m\u001b[39mscore_classic\u001b[39m\u001b[39m'\u001b[39m]\n\u001b[0;32m---> <a href='vscode-notebook-cell:/Users/hugo/Desktop/Projects/audio_analysis/SpeakerVerification_Benchmark/speaker_recognition.ipynb#X30sZmlsZQ%3D%3D?line=22'>23</a>\u001b[0m     CAM \u001b[39m=\u001b[39m str_to_dict_cam(line[\u001b[39m'\u001b[39;49m\u001b[39mscore_CAM++\u001b[39;49m\u001b[39m'\u001b[39;49m])\n\u001b[1;32m     <a href='vscode-notebook-cell:/Users/hugo/Desktop/Projects/audio_analysis/SpeakerVerification_Benchmark/speaker_recognition.ipynb#X30sZmlsZQ%3D%3D?line=23'>24</a>\u001b[0m     score_CAM \u001b[39m=\u001b[39m \u001b[39mfloat\u001b[39m(CAM[\u001b[39m'\u001b[39m\u001b[39mscore\u001b[39m\u001b[39m'\u001b[39m])\n\u001b[1;32m     <a href='vscode-notebook-cell:/Users/hugo/Desktop/Projects/audio_analysis/SpeakerVerification_Benchmark/speaker_recognition.ipynb#X30sZmlsZQ%3D%3D?line=25'>26</a>\u001b[0m     TDN \u001b[39m=\u001b[39m str_to_dict_TDN(line[\u001b[39m'\u001b[39m\u001b[39mTDN_score\u001b[39m\u001b[39m'\u001b[39m])\n",
      "\u001b[1;32m/Users/hugo/Desktop/Projects/audio_analysis/SpeakerVerification_Benchmark/speaker_recognition.ipynb Cell 13\u001b[0m line \u001b[0;36m1\n\u001b[1;32m      <a href='vscode-notebook-cell:/Users/hugo/Desktop/Projects/audio_analysis/SpeakerVerification_Benchmark/speaker_recognition.ipynb#X30sZmlsZQ%3D%3D?line=8'>9</a>\u001b[0m \u001b[39mfor\u001b[39;00m i \u001b[39min\u001b[39;00m \u001b[39minput\u001b[39m :\n\u001b[1;32m     <a href='vscode-notebook-cell:/Users/hugo/Desktop/Projects/audio_analysis/SpeakerVerification_Benchmark/speaker_recognition.ipynb#X30sZmlsZQ%3D%3D?line=9'>10</a>\u001b[0m     i \u001b[39m=\u001b[39m i\u001b[39m.\u001b[39msplit(\u001b[39m'\u001b[39m\u001b[39m:\u001b[39m\u001b[39m'\u001b[39m)\n\u001b[0;32m---> <a href='vscode-notebook-cell:/Users/hugo/Desktop/Projects/audio_analysis/SpeakerVerification_Benchmark/speaker_recognition.ipynb#X30sZmlsZQ%3D%3D?line=10'>11</a>\u001b[0m     output[i[\u001b[39m0\u001b[39m]] \u001b[39m=\u001b[39m i[\u001b[39m1\u001b[39;49m]\n\u001b[1;32m     <a href='vscode-notebook-cell:/Users/hugo/Desktop/Projects/audio_analysis/SpeakerVerification_Benchmark/speaker_recognition.ipynb#X30sZmlsZQ%3D%3D?line=11'>12</a>\u001b[0m \u001b[39mreturn\u001b[39;00m output\n",
      "\u001b[0;31mIndexError\u001b[0m: list index out of range"
     ]
    }
   ],
   "source": []
  },
  {
   "cell_type": "code",
   "execution_count": 37,
   "metadata": {},
   "outputs": [],
   "source": [
    "text = 'tensor([1.0000])'"
   ]
  },
  {
   "cell_type": "code",
   "execution_count": 16,
   "metadata": {},
   "outputs": [],
   "source": [
    "# How to change a str written like {'score':1.0 , 'text':'hello'} to a dict\n",
    "def str_to_dict_cam(input : str):\n",
    "    input = input.replace(' ', '')\n",
    "    input = input.replace('tensor', '')\n",
    "    input = input.replace('(', '')\n",
    "    input = input.replace(')', '')\n",
    "    input = input.replace(\"[\", '')\n",
    "    input = input.replace(\"]\", '')\n",
    "\n",
    "\n",
    "    return input"
   ]
  },
  {
   "cell_type": "code",
   "execution_count": 17,
   "metadata": {},
   "outputs": [
    {
     "ename": "NameError",
     "evalue": "name 'text' is not defined",
     "output_type": "error",
     "traceback": [
      "\u001b[0;31m---------------------------------------------------------------------------\u001b[0m",
      "\u001b[0;31mNameError\u001b[0m                                 Traceback (most recent call last)",
      "\u001b[1;32m/Users/hugo/Desktop/Projects/audio_analysis/SpeakerVerification_Benchmark/speaker_recognition.ipynb Cell 19\u001b[0m line \u001b[0;36m1\n\u001b[0;32m----> <a href='vscode-notebook-cell:/Users/hugo/Desktop/Projects/audio_analysis/SpeakerVerification_Benchmark/speaker_recognition.ipynb#X24sZmlsZQ%3D%3D?line=0'>1</a>\u001b[0m \u001b[39mprint\u001b[39m(str_to_dict_cam(text))\n",
      "\u001b[0;31mNameError\u001b[0m: name 'text' is not defined"
     ]
    }
   ],
   "source": [
    "print(str_to_dict_cam(text))"
   ]
  },
  {
   "cell_type": "code",
   "execution_count": 18,
   "metadata": {},
   "outputs": [],
   "source": [
    "def str_to_dict_TDN(input : str):\n",
    "    input = input.replace('tensor', '')\n",
    "    input = input.replace(' ', '')\n",
    "    input = input.replace('{', '')\n",
    "    input = input.replace('}', '')\n",
    "    input = input.replace(\"'\", '')\n",
    "    input = input.replace(\"(\", '')\n",
    "    input = input.replace(\")\", '')\n",
    "    input = input.replace('[', '')\n",
    "    input = input.replace(']', '')\n",
    "\n",
    "    output = input.split(',')\n",
    "\n",
    "    return output"
   ]
  },
  {
   "cell_type": "code",
   "execution_count": 26,
   "metadata": {},
   "outputs": [
    {
     "name": "stdout",
     "output_type": "stream",
     "text": [
      "********************** CHOSEN TRESHOLD :  0.1  **********************\n",
      "Number of positive : 2100 Number of negative : 18000\n",
      "For RESNET : False positive : 228 False negative : 9530\n",
      "For CAM++ : False positive : 85 False negative : 7994\n",
      "For TDN : False positive : 228 False negative : 6015\n",
      "For RESNET : FPR : 52.94444444444445  : 10.857142857142858\n",
      "For RESNET : EER Accuracy : 31.900793650793652\n",
      "For CAM++ : EER Accuracy : 24.22936507936508\n",
      "For TDN : EER Accuracy : 22.136904761904763\n",
      "********************** CHOSEN TRESHOLD :  0.15  **********************\n",
      "Number of positive : 2100 Number of negative : 18000\n",
      "For RESNET : False positive : 379 False negative : 6127\n",
      "For CAM++ : False positive : 183 False negative : 4751\n",
      "For TDN : False positive : 381 False negative : 2882\n",
      "For RESNET : FPR : 34.03888888888889  : 18.047619047619047\n",
      "For RESNET : EER Accuracy : 26.04325396825397\n",
      "For CAM++ : EER Accuracy : 17.554365079365077\n",
      "For TDN : EER Accuracy : 17.07698412698413\n",
      "********************** CHOSEN TRESHOLD :  0.2  **********************\n",
      "Number of positive : 2100 Number of negative : 18000\n",
      "For RESNET : False positive : 526 False negative : 3852\n",
      "For CAM++ : False positive : 307 False negative : 2479\n",
      "For TDN : False positive : 550 False negative : 1177\n",
      "For RESNET : FPR : 21.4  : 25.047619047619047\n",
      "For RESNET : EER Accuracy : 23.22380952380952\n",
      "For CAM++ : EER Accuracy : 14.19563492063492\n",
      "For TDN : EER Accuracy : 16.36468253968254\n",
      "********************** CHOSEN TRESHOLD :  0.25  **********************\n",
      "Number of positive : 2100 Number of negative : 18000\n",
      "For RESNET : False positive : 692 False negative : 2398\n",
      "For CAM++ : False positive : 490 False negative : 1125\n",
      "For TDN : False positive : 737 False negative : 482\n",
      "For RESNET : FPR : 13.322222222222221  : 32.95238095238095\n",
      "For RESNET : EER Accuracy : 23.137301587301586\n",
      "For CAM++ : EER Accuracy : 14.791666666666666\n",
      "For TDN : EER Accuracy : 18.886507936507936\n",
      "********************** CHOSEN TRESHOLD :  0.3  **********************\n",
      "Number of positive : 2100 Number of negative : 18000\n",
      "For RESNET : False positive : 863 False negative : 1439\n",
      "For CAM++ : False positive : 650 False negative : 466\n",
      "For TDN : False positive : 902 False negative : 166\n",
      "For RESNET : FPR : 7.9944444444444445  : 41.095238095238095\n",
      "For RESNET : EER Accuracy : 24.54484126984127\n",
      "For CAM++ : EER Accuracy : 16.770634920634922\n",
      "For TDN : EER Accuracy : 21.93730158730159\n",
      "********************** CHOSEN TRESHOLD :  0.4  **********************\n",
      "Number of positive : 2100 Number of negative : 18000\n",
      "For RESNET : False positive : 1205 False negative : 386\n",
      "For CAM++ : False positive : 982 False negative : 51\n",
      "For TDN : False positive : 1236 False negative : 12\n",
      "For RESNET : FPR : 2.1444444444444444  : 57.38095238095238\n",
      "For RESNET : EER Accuracy : 29.762698412698413\n",
      "For CAM++ : EER Accuracy : 23.52261904761905\n",
      "For TDN : EER Accuracy : 29.461904761904762\n",
      "********************** CHOSEN TRESHOLD :  0.5  **********************\n",
      "Number of positive : 2100 Number of negative : 18000\n",
      "For RESNET : False positive : 1488 False negative : 42\n",
      "For CAM++ : False positive : 1300 False negative : 4\n",
      "For TDN : False positive : 1527 False negative : 1\n",
      "For RESNET : FPR : 0.23333333333333336  : 70.85714285714285\n",
      "For RESNET : EER Accuracy : 35.54523809523809\n",
      "For CAM++ : EER Accuracy : 30.963492063492065\n",
      "For TDN : EER Accuracy : 36.359920634920634\n",
      "********************** CHOSEN TRESHOLD :  0.6  **********************\n",
      "Number of positive : 2100 Number of negative : 18000\n",
      "For RESNET : False positive : 1719 False negative : 1\n",
      "For CAM++ : False positive : 1559 False negative : 0\n",
      "For TDN : False positive : 1730 False negative : 0\n",
      "For RESNET : FPR : 0.005555555555555556  : 81.85714285714286\n",
      "For RESNET : EER Accuracy : 40.93134920634921\n",
      "For CAM++ : EER Accuracy : 37.11904761904762\n",
      "For TDN : EER Accuracy : 41.19047619047619\n",
      "********************** CHOSEN TRESHOLD :  0.7  **********************\n",
      "Number of positive : 2100 Number of negative : 18000\n",
      "For RESNET : False positive : 1854 False negative : 0\n",
      "For CAM++ : False positive : 1771 False negative : 0\n",
      "For TDN : False positive : 1854 False negative : 0\n",
      "For RESNET : FPR : 0.0  : 88.28571428571429\n",
      "For RESNET : EER Accuracy : 44.142857142857146\n",
      "For CAM++ : EER Accuracy : 42.16666666666667\n",
      "For TDN : EER Accuracy : 44.142857142857146\n"
     ]
    }
   ],
   "source": [
    "df = pd.read_csv('compar_tab_2.csv')\n",
    "\n",
    "false_positive_classic = 0\n",
    "false_positive_CAM = 0\n",
    "false_negative_classic = 0\n",
    "false_negative_CAM = 0\n",
    "false_positive_TDN = 0\n",
    "false_negative_TDN = 0\n",
    "positive = 0\n",
    "negative = 0\n",
    "treshold = 0.3\n",
    "\n",
    "for treshold in [0.1,0.15,0.2,0.25,0.3,0.4,0.5,0.6,0.7] :\n",
    "    print('********************** CHOSEN TRESHOLD : ', treshold, ' **********************')\n",
    "    for row, line in df.iterrows():\n",
    "        score_classic = line['score_classic']\n",
    "    \n",
    "        CAM = str_to_dict_cam(line['score_CAM++'])\n",
    "        score_CAM = float(CAM)\n",
    "        \n",
    "        TDN = str_to_dict_TDN(line['TDN_score'])\n",
    "        score_TDN = float(TDN[0])\n",
    "\n",
    "        if line['spk_1'] == line['spk_2'] :\n",
    "            positive += 1\n",
    "            if score_classic < treshold :\n",
    "                false_positive_classic += 1\n",
    "            if score_CAM < treshold :\n",
    "                false_positive_CAM += 1\n",
    "            if score_TDN < treshold :\n",
    "                false_positive_TDN += 1\n",
    "        else :\n",
    "            negative += 1\n",
    "            if score_classic > treshold :\n",
    "                false_negative_classic += 1\n",
    "            if score_CAM > treshold :\n",
    "                false_negative_CAM += 1\n",
    "            if score_TDN > treshold :\n",
    "                false_negative_TDN += 1\n",
    "\n",
    "    print(f'Number of positive : {positive} Number of negative : {negative}')\n",
    "    print(f'For RESNET : False positive : {false_positive_classic} False negative : {false_negative_classic}')\n",
    "    print(f'For CAM++ : False positive : {false_positive_CAM} False negative : {false_negative_CAM}')\n",
    "    print(f'For TDN : False positive : {false_positive_TDN} False negative : {false_negative_TDN}')\n",
    "    print(f'For RESNET : FPR : {100*(false_negative_classic/negative)}  : {100*(false_positive_classic/positive)}')\n",
    "    print(f'For RESNET : EER Accuracy : {(100*(false_negative_classic/negative)+100*(false_positive_classic/positive))/2}')\n",
    "    print(f'For CAM++ : EER Accuracy : {100*((false_negative_CAM/negative)+(false_positive_CAM/positive))/2}')   \n",
    "    print(f'For TDN : EER Accuracy : {100*((false_negative_TDN/negative)+(false_positive_TDN/positive))/2}')\n",
    "\n",
    "    false_positive_classic = 0\n",
    "    false_positive_CAM = 0\n",
    "    false_negative_classic = 0\n",
    "    false_negative_CAM = 0\n",
    "    false_positive_TDN = 0\n",
    "    false_negative_TDN = 0\n",
    "    positive = 0\n",
    "    negative = 0"
   ]
  },
  {
   "cell_type": "code",
   "execution_count": 59,
   "metadata": {},
   "outputs": [],
   "source": [
    "test = []\n",
    "\n",
    "path1 = '23456789876543'\n",
    "path2 = '12345678987654'\n",
    "path3 = '12345678937654'\n",
    "\n"
   ]
  },
  {
   "cell_type": "code",
   "execution_count": 61,
   "metadata": {},
   "outputs": [],
   "source": [
    "test.append({path1, path2})"
   ]
  },
  {
   "cell_type": "code",
   "execution_count": 64,
   "metadata": {},
   "outputs": [
    {
     "name": "stdout",
     "output_type": "stream",
     "text": [
      "yes\n"
     ]
    }
   ],
   "source": [
    "if {path2, path1} in test :\n",
    "    print('yes')"
   ]
  },
  {
   "cell_type": "code",
   "execution_count": null,
   "metadata": {},
   "outputs": [],
   "source": []
  }
 ],
 "metadata": {
  "kernelspec": {
   "display_name": ".env",
   "language": "python",
   "name": "python3"
  },
  "language_info": {
   "codemirror_mode": {
    "name": "ipython",
    "version": 3
   },
   "file_extension": ".py",
   "mimetype": "text/x-python",
   "name": "python",
   "nbconvert_exporter": "python",
   "pygments_lexer": "ipython3",
   "version": "3.8.18"
  },
  "orig_nbformat": 4
 },
 "nbformat": 4,
 "nbformat_minor": 2
}
